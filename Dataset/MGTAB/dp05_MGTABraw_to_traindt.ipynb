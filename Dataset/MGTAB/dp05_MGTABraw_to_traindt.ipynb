{
 "cells": [
  {
   "cell_type": "code",
   "execution_count": 1,
   "id": "1be7cf7e",
   "metadata": {},
   "outputs": [],
   "source": [
    "import pandas as pd\n",
    "import numpy as np\n",
    "import torch"
   ]
  },
  {
   "cell_type": "code",
   "execution_count": 3,
   "outputs": [
    {
     "name": "stderr",
     "output_type": "stream",
     "text": [
      "C:\\Users\\TINKY2~1\\AppData\\Local\\Temp/ipykernel_7476/2480114899.py:6: UserWarning: To copy construct from a tensor, it is recommended to use sourceTensor.clone().detach() or sourceTensor.clone().detach().requires_grad_(True), rather than torch.tensor(sourceTensor).\n",
      "  edge_index = torch.tensor(edge_index, dtype=torch.int64)  # (2, 1700108)\n"
     ]
    }
   ],
   "source": [
    "# 有向图edge关系，第0行follow第1行\n",
    "# follower, friend, mention, reply, quote, URL, hashtag\n",
    "edge_type = torch.load(\"edge_type.pt\")  # (1700108)\n",
    "edge_index = torch.load(\"edge_index.pt\")\n",
    "\n",
    "edge_index = torch.tensor(edge_index, dtype=torch.int64)  # (2, 1700108)\n",
    "edge_index_0, edge_index_1 = edge_index[:, (0 == edge_type)], edge_index[:, (1 == edge_type)]\n",
    "edge_index = np.concatenate([edge_index_0.flip(0), edge_index_1], axis=1)"
   ],
   "metadata": {
    "collapsed": false,
    "pycharm": {
     "name": "#%%\n"
    }
   }
  },
  {
   "cell_type": "code",
   "execution_count": 12,
   "id": "e5e33821",
   "metadata": {},
   "outputs": [
    {
     "name": "stdout",
     "output_type": "stream",
     "text": [
      "constructing treat/control:...\n",
      "len of treat/control/intersect: 1895 4 92\n",
      "b, t, prop, y shape:  (10199,) (10199,) (10199,) (10199,)\n"
     ]
    }
   ],
   "source": [
    "# neg (against)\n",
    "stance = 0\n",
    "bot_label = torch.load('labels_bot.pt') # (10199) 0-human, 1-bot\n",
    "# neutral: 3776, against: 3637, support: 2786\n",
    "sl = torch.load(\"labels_stance.pt\")  # (10199) 0-neutral, 1-against, 2-support\n",
    "outcome = sl.masked_fill(sl==0, 1).masked_fill(sl==1, 0) # -> 0-against, 2-support\n",
    "\n",
    "N = len(outcome) # num nodes\n",
    "treat_indicator, prop_label = np.zeros(N), np.zeros(N)\n",
    "followings_dict = {}\n",
    "for i in range(N):\n",
    "    u, v = edge_index[0][i], edge_index[1][i]\n",
    "    followings_dict.setdefault(u, []).append(v)\n",
    "id_all = set(np.array([i for i in range(N)]))\n",
    "id_s = id_all - set(np.nonzero(outcome-stance)[0])\n",
    "prop_label[list(map(int, id_s))] = 1\n",
    "\n",
    "\n",
    "print(\"constructing treat/control:...\")\n",
    "treat_id = []\n",
    "control_id = []\n",
    "for i in range(N):\n",
    "    if i not in followings_dict.keys():\n",
    "        continue\n",
    "    if bot_label[i] == 1:\n",
    "        continue\n",
    "    for j in followings_dict[i]:\n",
    "        if outcome[j] == stance:\n",
    "            if bot_label[j] == 0:\n",
    "                treat_id.append(i)\n",
    "            elif bot_label[j] == 1:\n",
    "                control_id.append(i)\n",
    "\n",
    "treat_id, control_id = set(treat_id), set(control_id)\n",
    "intersec = set(treat_id)&set(control_id)\n",
    "treat_id = list(map(int, treat_id-intersec))\n",
    "control_id = list(map(int, control_id-intersec))\n",
    "print(\"len of treat/control/intersect:\", len(treat_id), len(control_id), len(intersec))\n",
    "treat_indicator[treat_id] = -1\n",
    "treat_indicator[control_id] = 1\n",
    "\n",
    "bot_label = bot_label.numpy()\n",
    "y_truth = outcome.numpy()\n",
    "print(\"b, t, prop, y shape: \", bot_label.shape, treat_indicator.shape, y_truth.shape, prop_label.shape)\n"
   ]
  },
  {
   "cell_type": "code",
   "execution_count": 64,
   "id": "ac475a85",
   "metadata": {},
   "outputs": [],
   "source": [
    "# np.save('twi22/t1_covid/t1_edge.npy', edge_index)\n",
    "# np.save('twi22/t1_covid/t1_bot_label.npy', bot_label)\n",
    "# np.save('twi22/t1_covid/t1_T_label.npy', treat_label)\n",
    "# np.save('twi22/t1_covid/t1_y.npy', y_truth)\n",
    "# np.save('twi22/t1_covid/t1_prop_label.npy', prop_label)\n",
    "\n",
    "# np.save('twi22/t2_war/t2_edge.npy', edge_index)\n",
    "# np.save('twi22/t2_war/t2_bot_label.npy', bot_label)\n",
    "# np.save('twi22/t2_war/t2_T_label.npy', treat_label)\n",
    "# np.save('twi22/t2_war/t2_y.npy', y_truth)\n",
    "# np.save('twi22/t2_war/t2_prop_label.npy', prop_label)\n",
    "\n",
    "np.save('twi22/t3_climate/t3_edge.npy', edge_index)\n",
    "np.save('twi22/t3_climate/t3_bot_label.npy', bot_label)\n",
    "np.save('twi22/t3_climate/t3_T_label.npy', treat_label)\n",
    "np.save('twi22/t3_climate/t3_y.npy', y_truth)\n",
    "np.save('twi22/t3_climate/t3_prop_label.npy', prop_label)"
   ]
  }
 ],
 "metadata": {
  "kernelspec": {
   "display_name": "Python 3",
   "language": "python",
   "name": "python3"
  },
  "language_info": {
   "codemirror_mode": {
    "name": "ipython",
    "version": 3
   },
   "file_extension": ".py",
   "mimetype": "text/x-python",
   "name": "python",
   "nbconvert_exporter": "python",
   "pygments_lexer": "ipython3",
   "version": "3.9.7"
  }
 },
 "nbformat": 4,
 "nbformat_minor": 5
}