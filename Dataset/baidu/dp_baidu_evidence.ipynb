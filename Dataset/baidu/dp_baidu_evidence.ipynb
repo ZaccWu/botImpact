{
 "cells": [
  {
   "cell_type": "code",
   "execution_count": 47,
   "metadata": {
    "collapsed": true,
    "pycharm": {
     "name": "#%%\n"
    }
   },
   "outputs": [],
   "source": [
    "import pandas as pd\n",
    "import numpy as np\n",
    "import networkx as nx"
   ]
  },
  {
   "cell_type": "code",
   "execution_count": 7,
   "outputs": [
    {
     "data": {
      "text/plain": "           ID                                              tweet  \\\n0    15750898  [A family fears they may have been cheated out...   \n1  1659167666  [RT @VonteThePlug: Yeah but he ain’t got one h...   \n2    34743251  [RT @elonmusk: Aloha, welcome back from space ...   \n3   207809313  [एक राष्ट्र - एक राशन कार्ड की ओर अग्रसर भारत\\...   \n4    24212655  [RT @dominiquecrenn: So much negativity and go...   \n\n                                             profile  \n0  {'id': 15750898, 'id_str': '15750898', 'name':...  \n1  {'id': 1659167666, 'id_str': '1659167666', 'na...  \n2  {'id': 34743251, 'id_str': '34743251', 'name':...  \n3  {'id': 207809313, 'id_str': '207809313', 'name...  \n4  {'id': 24212655, 'id_str': '24212655', 'name':...  ",
      "text/html": "<div>\n<style scoped>\n    .dataframe tbody tr th:only-of-type {\n        vertical-align: middle;\n    }\n\n    .dataframe tbody tr th {\n        vertical-align: top;\n    }\n\n    .dataframe thead th {\n        text-align: right;\n    }\n</style>\n<table border=\"1\" class=\"dataframe\">\n  <thead>\n    <tr style=\"text-align: right;\">\n      <th></th>\n      <th>ID</th>\n      <th>tweet</th>\n      <th>profile</th>\n    </tr>\n  </thead>\n  <tbody>\n    <tr>\n      <th>0</th>\n      <td>15750898</td>\n      <td>[A family fears they may have been cheated out...</td>\n      <td>{'id': 15750898, 'id_str': '15750898', 'name':...</td>\n    </tr>\n    <tr>\n      <th>1</th>\n      <td>1659167666</td>\n      <td>[RT @VonteThePlug: Yeah but he ain’t got one h...</td>\n      <td>{'id': 1659167666, 'id_str': '1659167666', 'na...</td>\n    </tr>\n    <tr>\n      <th>2</th>\n      <td>34743251</td>\n      <td>[RT @elonmusk: Aloha, welcome back from space ...</td>\n      <td>{'id': 34743251, 'id_str': '34743251', 'name':...</td>\n    </tr>\n    <tr>\n      <th>3</th>\n      <td>207809313</td>\n      <td>[एक राष्ट्र - एक राशन कार्ड की ओर अग्रसर भारत\\...</td>\n      <td>{'id': 207809313, 'id_str': '207809313', 'name...</td>\n    </tr>\n    <tr>\n      <th>4</th>\n      <td>24212655</td>\n      <td>[RT @dominiquecrenn: So much negativity and go...</td>\n      <td>{'id': 24212655, 'id_str': '24212655', 'name':...</td>\n    </tr>\n  </tbody>\n</table>\n</div>"
     },
     "execution_count": 7,
     "metadata": {},
     "output_type": "execute_result"
    }
   ],
   "source": [
    "user = pd.read_json('user.json')\n",
    "user.head(5)"
   ],
   "metadata": {
    "collapsed": false,
    "pycharm": {
     "name": "#%%\n"
    }
   }
  },
  {
   "cell_type": "code",
   "execution_count": 18,
   "outputs": [],
   "source": [
    "### Part 1 选择需要分析的individual trait\n",
    "location = []\n",
    "for i in range(len(user)):\n",
    "    if user['profile'][i]==None:\n",
    "        location.append('Unknown')\n",
    "        continue\n",
    "    location.append(user['profile'][i]['location'])"
   ],
   "metadata": {
    "collapsed": false,
    "pycharm": {
     "name": "#%%\n"
    }
   }
  },
  {
   "cell_type": "code",
   "execution_count": 20,
   "outputs": [
    {
     "data": {
      "text/plain": "           ID                                              tweet  \\\n0    15750898  [A family fears they may have been cheated out...   \n1  1659167666  [RT @VonteThePlug: Yeah but he ain’t got one h...   \n2    34743251  [RT @elonmusk: Aloha, welcome back from space ...   \n3   207809313  [एक राष्ट्र - एक राशन कार्ड की ओर अग्रसर भारत\\...   \n4    24212655  [RT @dominiquecrenn: So much negativity and go...   \n\n                                             profile  \\\n0  {'id': 15750898, 'id_str': '15750898', 'name':...   \n1  {'id': 1659167666, 'id_str': '1659167666', 'na...   \n2  {'id': 34743251, 'id_str': '34743251', 'name':...   \n3  {'id': 207809313, 'id_str': '207809313', 'name...   \n4  {'id': 24212655, 'id_str': '24212655', 'name':...   \n\n                         location  \n0                       Tampa, FL  \n1          Jacksonville Beach, FL  \n2                   Hawthorne, CA  \n3  6-A, Deen Dayal Upadhyay Marg,  \n4               Chicago, Illinois  ",
      "text/html": "<div>\n<style scoped>\n    .dataframe tbody tr th:only-of-type {\n        vertical-align: middle;\n    }\n\n    .dataframe tbody tr th {\n        vertical-align: top;\n    }\n\n    .dataframe thead th {\n        text-align: right;\n    }\n</style>\n<table border=\"1\" class=\"dataframe\">\n  <thead>\n    <tr style=\"text-align: right;\">\n      <th></th>\n      <th>ID</th>\n      <th>tweet</th>\n      <th>profile</th>\n      <th>location</th>\n    </tr>\n  </thead>\n  <tbody>\n    <tr>\n      <th>0</th>\n      <td>15750898</td>\n      <td>[A family fears they may have been cheated out...</td>\n      <td>{'id': 15750898, 'id_str': '15750898', 'name':...</td>\n      <td>Tampa, FL</td>\n    </tr>\n    <tr>\n      <th>1</th>\n      <td>1659167666</td>\n      <td>[RT @VonteThePlug: Yeah but he ain’t got one h...</td>\n      <td>{'id': 1659167666, 'id_str': '1659167666', 'na...</td>\n      <td>Jacksonville Beach, FL</td>\n    </tr>\n    <tr>\n      <th>2</th>\n      <td>34743251</td>\n      <td>[RT @elonmusk: Aloha, welcome back from space ...</td>\n      <td>{'id': 34743251, 'id_str': '34743251', 'name':...</td>\n      <td>Hawthorne, CA</td>\n    </tr>\n    <tr>\n      <th>3</th>\n      <td>207809313</td>\n      <td>[एक राष्ट्र - एक राशन कार्ड की ओर अग्रसर भारत\\...</td>\n      <td>{'id': 207809313, 'id_str': '207809313', 'name...</td>\n      <td>6-A, Deen Dayal Upadhyay Marg,</td>\n    </tr>\n    <tr>\n      <th>4</th>\n      <td>24212655</td>\n      <td>[RT @dominiquecrenn: So much negativity and go...</td>\n      <td>{'id': 24212655, 'id_str': '24212655', 'name':...</td>\n      <td>Chicago, Illinois</td>\n    </tr>\n  </tbody>\n</table>\n</div>"
     },
     "execution_count": 20,
     "metadata": {},
     "output_type": "execute_result"
    }
   ],
   "source": [
    "user['location'] = location\n",
    "user.head(5)"
   ],
   "metadata": {
    "collapsed": false,
    "pycharm": {
     "name": "#%%\n"
    }
   }
  },
  {
   "cell_type": "code",
   "execution_count": 24,
   "outputs": [
    {
     "data": {
      "text/plain": "0    6908\n1    1829\nName: Label, dtype: int64"
     },
     "execution_count": 24,
     "metadata": {},
     "output_type": "execute_result"
    }
   ],
   "source": [
    "trait = user[['ID', 'location']]\n",
    "bot_label = pd.read_csv('train.csv', sep='\\t')\n",
    "user_with_label = pd.merge(trait, bot_label, on='ID', how='inner')\n",
    "user_with_label['Label'].value_counts()"
   ],
   "metadata": {
    "collapsed": false,
    "pycharm": {
     "name": "#%%\n"
    }
   }
  },
  {
   "cell_type": "code",
   "execution_count": 27,
   "outputs": [
    {
     "data": {
      "text/plain": "   seed_user_id   relation     relation_user_id\n0      15750898  followers           2324715174\n1      15750898    friends  1279902697991409664\n2    1659167666  followers            329721192\n3    1659167666  followers            396721750\n4    1659167666    friends            243412850",
      "text/html": "<div>\n<style scoped>\n    .dataframe tbody tr th:only-of-type {\n        vertical-align: middle;\n    }\n\n    .dataframe tbody tr th {\n        vertical-align: top;\n    }\n\n    .dataframe thead th {\n        text-align: right;\n    }\n</style>\n<table border=\"1\" class=\"dataframe\">\n  <thead>\n    <tr style=\"text-align: right;\">\n      <th></th>\n      <th>seed_user_id</th>\n      <th>relation</th>\n      <th>relation_user_id</th>\n    </tr>\n  </thead>\n  <tbody>\n    <tr>\n      <th>0</th>\n      <td>15750898</td>\n      <td>followers</td>\n      <td>2324715174</td>\n    </tr>\n    <tr>\n      <th>1</th>\n      <td>15750898</td>\n      <td>friends</td>\n      <td>1279902697991409664</td>\n    </tr>\n    <tr>\n      <th>2</th>\n      <td>1659167666</td>\n      <td>followers</td>\n      <td>329721192</td>\n    </tr>\n    <tr>\n      <th>3</th>\n      <td>1659167666</td>\n      <td>followers</td>\n      <td>396721750</td>\n    </tr>\n    <tr>\n      <th>4</th>\n      <td>1659167666</td>\n      <td>friends</td>\n      <td>243412850</td>\n    </tr>\n  </tbody>\n</table>\n</div>"
     },
     "execution_count": 27,
     "metadata": {},
     "output_type": "execute_result"
    }
   ],
   "source": [
    "edge = pd.read_json('edge.json')\n",
    "edge.head()"
   ],
   "metadata": {
    "collapsed": false,
    "pycharm": {
     "name": "#%%\n"
    }
   }
  },
  {
   "cell_type": "markdown",
   "source": [],
   "metadata": {
    "collapsed": false
   }
  },
  {
   "cell_type": "code",
   "execution_count": 39,
   "outputs": [],
   "source": [
    "# 处理成(2, E)的数据，其中第0行节点follow第1行节点\n",
    "followers = edge[edge['relation']=='followers']\n",
    "friends = edge[edge['relation']=='friends']"
   ],
   "metadata": {
    "collapsed": false,
    "pycharm": {
     "name": "#%%\n"
    }
   }
  },
  {
   "cell_type": "code",
   "execution_count": 44,
   "outputs": [],
   "source": [
    "edges_1 = np.array([followers['relation_user_id'].to_list(),followers['seed_user_id'].to_list()])\n",
    "edges_2 = np.array([friends['seed_user_id'].to_list(),friends['relation_user_id'].to_list()])\n",
    "edges = np.concatenate([edges_1, edges_2], axis=1)"
   ],
   "metadata": {
    "collapsed": false,
    "pycharm": {
     "name": "#%%\n"
    }
   }
  },
  {
   "cell_type": "code",
   "execution_count": 111,
   "outputs": [],
   "source": [
    "a = list(edges[0])\n",
    "b = list(edges[1])\n",
    "c = user_with_label['ID'].to_list()\n",
    "followers_label = set(a)&set(c)\n",
    "followed_label = set(b)&set(c)"
   ],
   "metadata": {
    "collapsed": false,
    "pycharm": {
     "name": "#%%\n"
    }
   }
  },
  {
   "cell_type": "code",
   "execution_count": 112,
   "outputs": [
    {
     "data": {
      "text/plain": "{1976841,\n 14594813,\n 14643178,\n 15008142,\n 15956067,\n 16953652,\n 18565087,\n 19026735,\n 20264905,\n 20349330,\n 21651982,\n 23553743,\n 24198971,\n 25154114,\n 34156176,\n 34716038,\n 35100670,\n 36658407,\n 39651447,\n 40725502,\n 46518803,\n 48074464,\n 54265553,\n 55815840,\n 64576418,\n 65776012,\n 76710013,\n 77808373,\n 86601594,\n 87070479,\n 87154044,\n 89788329,\n 94847504,\n 107797719,\n 114425330,\n 119152527,\n 119533988,\n 127361253,\n 156005263,\n 169703787,\n 176348732,\n 177758370,\n 209001970,\n 214134167,\n 222286198,\n 253006900,\n 258620586,\n 268482830,\n 287938981,\n 289932443,\n 296020190,\n 306510658,\n 308006744,\n 323138766,\n 326913391,\n 327077249,\n 340803178,\n 400624214,\n 408673732,\n 422218178,\n 428605324,\n 432899489,\n 453495862,\n 476562084,\n 489979871,\n 576497349,\n 580224794,\n 591909448,\n 597847340,\n 603660185,\n 607710343,\n 621020931,\n 853100948,\n 913468807,\n 1082868295,\n 1124924107,\n 1137559482,\n 1264286744,\n 1342859496,\n 1702605908,\n 1720554090,\n 1878871010,\n 1901298962,\n 1920805208,\n 2181042705,\n 2188274809,\n 2199918062,\n 2227540266,\n 2235577028,\n 2257341885,\n 2286191381,\n 2335551492,\n 2369428747,\n 2485029585,\n 2595471120,\n 2726570040,\n 2786349896,\n 2790891218,\n 2831046348,\n 2987899200,\n 3301171864,\n 3336176321,\n 3423428056,\n 3557757313,\n 3774437315,\n 4320169827,\n 4492974994,\n 4601174968,\n 695494471966986240,\n 739259723350958080,\n 741270610551132160,\n 765330132277932032,\n 784804591393275904,\n 793972679552495616,\n 803359836188667904,\n 805474503660703744,\n 820883159889940480,\n 824822044797894656,\n 825426418062544896,\n 828114905228144640,\n 836237326187560960,\n 838620852446953472,\n 847942138545422336,\n 858845127284076544,\n 871436467863605248,\n 884550686683275264,\n 889044399136448512,\n 891730333011509248,\n 902148851930472448,\n 909042701256900608,\n 954016995116187648,\n 954135641213865984,\n 954183973906694144,\n 956115161911349248,\n 964079323945857024,\n 1001264212625240064,\n 1006329860816502784,\n 1008384135575023616,\n 1013539070679638016,\n 1020715915065856000,\n 1041875187384369152,\n 1079826171284488192,\n 1082772456874692608,\n 1088632221790097408,\n 1090785309481152512,\n 1101896699629449216,\n 1134848244226256896,\n 1135967149716115456,\n 1219567242565820416,\n 1256740868821745664,\n 1269215917680066560,\n 1272615837904498688,\n 1279279629803667456,\n 1282326580837195776,\n 1288622418551070720,\n 1288958582654996480,\n 1289959984860725248,\n 1291820395457179648,\n 1293391490291511296,\n 1293551341231644672,\n 1297778501550878720,\n 1297780601777520640}"
     },
     "execution_count": 112,
     "metadata": {},
     "output_type": "execute_result"
    }
   ],
   "source": [
    "followers_label&followed_label\n",
    "## TODO: 这个数据集tie两端都有身份label的只有86个"
   ],
   "metadata": {
    "collapsed": false,
    "pycharm": {
     "name": "#%%\n"
    }
   }
  },
  {
   "cell_type": "code",
   "execution_count": 68,
   "outputs": [
    {
     "name": "stdout",
     "output_type": "stream",
     "text": [
      "Num Nodes: 24696\n",
      "Num Edges: 17792\n"
     ]
    }
   ],
   "source": [
    "# 创建一个空的NetworkX图\n",
    "G = nx.DiGraph()\n",
    "\n",
    "# 添加节点及其属性\n",
    "for index, row in user_with_label.iterrows():\n",
    "    G.add_node(row['ID'], feature=row['location'], label=row['Label'])\n",
    "\n",
    "# 添加边\n",
    "for e in range(len(edges[0])):\n",
    "    G.add_edge(edges[0][e], edges[1][e])\n",
    "\n",
    "print('Num Nodes:', len(G.nodes))\n",
    "print('Num Edges:', len(G.edges))"
   ],
   "metadata": {
    "collapsed": false,
    "pycharm": {
     "name": "#%%\n"
    }
   }
  },
  {
   "cell_type": "code",
   "execution_count": 82,
   "outputs": [
    {
     "ename": "ValueError",
     "evalue": "can only convert an array of size 1 to a Python scalar",
     "output_type": "error",
     "traceback": [
      "\u001B[1;31m---------------------------------------------------------------------------\u001B[0m",
      "\u001B[1;31mValueError\u001B[0m                                Traceback (most recent call last)",
      "\u001B[1;32mC:\\Users\\TINKY2~1\\AppData\\Local\\Temp/ipykernel_22900/1666995211.py\u001B[0m in \u001B[0;36m<module>\u001B[1;34m\u001B[0m\n\u001B[0;32m      1\u001B[0m \u001B[1;32mimport\u001B[0m \u001B[0mmatplotlib\u001B[0m\u001B[1;33m.\u001B[0m\u001B[0mpyplot\u001B[0m \u001B[1;32mas\u001B[0m \u001B[0mplt\u001B[0m\u001B[1;33m\u001B[0m\u001B[1;33m\u001B[0m\u001B[0m\n\u001B[0;32m      2\u001B[0m \u001B[1;31m# 设置节点颜色\u001B[0m\u001B[1;33m\u001B[0m\u001B[1;33m\u001B[0m\u001B[1;33m\u001B[0m\u001B[0m\n\u001B[1;32m----> 3\u001B[1;33m \u001B[0mnode_colors\u001B[0m \u001B[1;33m=\u001B[0m \u001B[1;33m{\u001B[0m\u001B[0mnode\u001B[0m\u001B[1;33m:\u001B[0m \u001B[0muser_with_label\u001B[0m\u001B[1;33m[\u001B[0m\u001B[0muser_with_label\u001B[0m\u001B[1;33m[\u001B[0m\u001B[1;34m'ID'\u001B[0m\u001B[1;33m]\u001B[0m \u001B[1;33m==\u001B[0m \u001B[0mnode\u001B[0m\u001B[1;33m]\u001B[0m\u001B[1;33m[\u001B[0m\u001B[1;34m'Label'\u001B[0m\u001B[1;33m]\u001B[0m\u001B[1;33m.\u001B[0m\u001B[0mitem\u001B[0m\u001B[1;33m(\u001B[0m\u001B[1;33m)\u001B[0m \u001B[1;32mfor\u001B[0m \u001B[0mnode\u001B[0m \u001B[1;32min\u001B[0m \u001B[0mG\u001B[0m\u001B[1;33m.\u001B[0m\u001B[0mnodes\u001B[0m\u001B[1;33m}\u001B[0m\u001B[1;33m\u001B[0m\u001B[1;33m\u001B[0m\u001B[0m\n\u001B[0m\u001B[0;32m      4\u001B[0m \u001B[1;31m# 绘制图\u001B[0m\u001B[1;33m\u001B[0m\u001B[1;33m\u001B[0m\u001B[1;33m\u001B[0m\u001B[0m\n\u001B[0;32m      5\u001B[0m \u001B[0mpos\u001B[0m \u001B[1;33m=\u001B[0m \u001B[0mnx\u001B[0m\u001B[1;33m.\u001B[0m\u001B[0mrandom_layout\u001B[0m\u001B[1;33m(\u001B[0m\u001B[0mG\u001B[0m\u001B[1;33m)\u001B[0m\u001B[1;33m\u001B[0m\u001B[1;33m\u001B[0m\u001B[0m\n",
      "\u001B[1;32mC:\\Users\\TINKY2~1\\AppData\\Local\\Temp/ipykernel_22900/1666995211.py\u001B[0m in \u001B[0;36m<dictcomp>\u001B[1;34m(.0)\u001B[0m\n\u001B[0;32m      1\u001B[0m \u001B[1;32mimport\u001B[0m \u001B[0mmatplotlib\u001B[0m\u001B[1;33m.\u001B[0m\u001B[0mpyplot\u001B[0m \u001B[1;32mas\u001B[0m \u001B[0mplt\u001B[0m\u001B[1;33m\u001B[0m\u001B[1;33m\u001B[0m\u001B[0m\n\u001B[0;32m      2\u001B[0m \u001B[1;31m# 设置节点颜色\u001B[0m\u001B[1;33m\u001B[0m\u001B[1;33m\u001B[0m\u001B[1;33m\u001B[0m\u001B[0m\n\u001B[1;32m----> 3\u001B[1;33m \u001B[0mnode_colors\u001B[0m \u001B[1;33m=\u001B[0m \u001B[1;33m{\u001B[0m\u001B[0mnode\u001B[0m\u001B[1;33m:\u001B[0m \u001B[0muser_with_label\u001B[0m\u001B[1;33m[\u001B[0m\u001B[0muser_with_label\u001B[0m\u001B[1;33m[\u001B[0m\u001B[1;34m'ID'\u001B[0m\u001B[1;33m]\u001B[0m \u001B[1;33m==\u001B[0m \u001B[0mnode\u001B[0m\u001B[1;33m]\u001B[0m\u001B[1;33m[\u001B[0m\u001B[1;34m'Label'\u001B[0m\u001B[1;33m]\u001B[0m\u001B[1;33m.\u001B[0m\u001B[0mitem\u001B[0m\u001B[1;33m(\u001B[0m\u001B[1;33m)\u001B[0m \u001B[1;32mfor\u001B[0m \u001B[0mnode\u001B[0m \u001B[1;32min\u001B[0m \u001B[0mG\u001B[0m\u001B[1;33m.\u001B[0m\u001B[0mnodes\u001B[0m\u001B[1;33m}\u001B[0m\u001B[1;33m\u001B[0m\u001B[1;33m\u001B[0m\u001B[0m\n\u001B[0m\u001B[0;32m      4\u001B[0m \u001B[1;31m# 绘制图\u001B[0m\u001B[1;33m\u001B[0m\u001B[1;33m\u001B[0m\u001B[1;33m\u001B[0m\u001B[0m\n\u001B[0;32m      5\u001B[0m \u001B[0mpos\u001B[0m \u001B[1;33m=\u001B[0m \u001B[0mnx\u001B[0m\u001B[1;33m.\u001B[0m\u001B[0mrandom_layout\u001B[0m\u001B[1;33m(\u001B[0m\u001B[0mG\u001B[0m\u001B[1;33m)\u001B[0m\u001B[1;33m\u001B[0m\u001B[1;33m\u001B[0m\u001B[0m\n",
      "\u001B[1;32mD:\\development\\anaconda\\anaconda3\\envs\\pytorch\\lib\\site-packages\\pandas\\core\\base.py\u001B[0m in \u001B[0;36mitem\u001B[1;34m(self)\u001B[0m\n\u001B[0;32m    650\u001B[0m             \u001B[1;31m# numpy returns ints instead of datetime64/timedelta64 objects,\u001B[0m\u001B[1;33m\u001B[0m\u001B[1;33m\u001B[0m\u001B[1;33m\u001B[0m\u001B[0m\n\u001B[0;32m    651\u001B[0m             \u001B[1;31m#  which we need to wrap in Timestamp/Timedelta/Period regardless.\u001B[0m\u001B[1;33m\u001B[0m\u001B[1;33m\u001B[0m\u001B[1;33m\u001B[0m\u001B[0m\n\u001B[1;32m--> 652\u001B[1;33m             \u001B[1;32mreturn\u001B[0m \u001B[0mself\u001B[0m\u001B[1;33m.\u001B[0m\u001B[0mvalues\u001B[0m\u001B[1;33m.\u001B[0m\u001B[0mitem\u001B[0m\u001B[1;33m(\u001B[0m\u001B[1;33m)\u001B[0m\u001B[1;33m\u001B[0m\u001B[1;33m\u001B[0m\u001B[0m\n\u001B[0m\u001B[0;32m    653\u001B[0m \u001B[1;33m\u001B[0m\u001B[0m\n\u001B[0;32m    654\u001B[0m         \u001B[1;32mif\u001B[0m \u001B[0mlen\u001B[0m\u001B[1;33m(\u001B[0m\u001B[0mself\u001B[0m\u001B[1;33m)\u001B[0m \u001B[1;33m==\u001B[0m \u001B[1;36m1\u001B[0m\u001B[1;33m:\u001B[0m\u001B[1;33m\u001B[0m\u001B[1;33m\u001B[0m\u001B[0m\n",
      "\u001B[1;31mValueError\u001B[0m: can only convert an array of size 1 to a Python scalar"
     ]
    }
   ],
   "source": [
    "import matplotlib.pyplot as plt\n",
    "# 设置节点颜色\n",
    "node_colors = {node: user_with_label[user_with_label['ID'] == node]['Label'].item() for node in G.nodes}\n",
    "# 绘制图\n",
    "pos = nx.random_layout(G)\n",
    "nx.draw(G, pos, with_labels=True, node_color=[node_colors[node] for node in G.nodes], cmap=plt.cm.tab10)\n",
    "plt.show()"
   ],
   "metadata": {
    "collapsed": false,
    "pycharm": {
     "name": "#%%\n"
    }
   }
  }
 ],
 "metadata": {
  "kernelspec": {
   "display_name": "Python 3",
   "language": "python",
   "name": "python3"
  },
  "language_info": {
   "codemirror_mode": {
    "name": "ipython",
    "version": 2
   },
   "file_extension": ".py",
   "mimetype": "text/x-python",
   "name": "python",
   "nbconvert_exporter": "python",
   "pygments_lexer": "ipython2",
   "version": "2.7.6"
  }
 },
 "nbformat": 4,
 "nbformat_minor": 0
}