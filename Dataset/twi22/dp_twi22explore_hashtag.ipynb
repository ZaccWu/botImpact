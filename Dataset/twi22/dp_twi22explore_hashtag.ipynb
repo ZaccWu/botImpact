{
 "cells": [
  {
   "cell_type": "code",
   "execution_count": 1,
   "id": "1be7cf7e",
   "metadata": {},
   "outputs": [],
   "source": [
    "import pandas as pd\n",
    "import ijson\n",
    "import json"
   ]
  },
  {
   "cell_type": "code",
   "execution_count": 16,
   "id": "b91f879f",
   "metadata": {},
   "outputs": [
    {
     "data": {
      "text/plain": [
       "{'uid': [1304855289208819713,\n",
       "  1304855289208819713,\n",
       "  1304855289208819713,\n",
       "  1304855289208819713,\n",
       "  1304855289208819713,\n",
       "  1304855289208819713,\n",
       "  1304855289208819713,\n",
       "  1304855289208819713,\n",
       "  1304855289208819713,\n",
       "  1304855289208819713,\n",
       "  1304855289208819713],\n",
       " 'tweet': [\"@phaseknight_ Although I didn't base this sketch on you specifically, I really think it vibes with your amazing NSFW Laudna cosplay! 🖤 https://t.co/GXjjq83Rrn\",\n",
       "  \"I mean, doesn't his beautiful face just scream Trinket?! 🥺 @matthewmercer @CriticalRole @TitmouseInc https://t.co/VydxEYfaXi\",\n",
       "  \"@Cobalt_han I'm British, so that used to be me too! Now I live in Alaska! 🐻\",\n",
       "  'RT @itsginnydi: the only thing better than the Legend of Vox Machina will be the Legend of Vox Machina the second time through 👏',\n",
       "  \"Lucky and his sister, among other bears, were orphaned as cubs by human behavior. Due to the lack of rehab &amp; release program for bears in Alaska, they would have been destroyed if our sanctuary didn't offer them a forever home. To learn more, check out Fortress of the Bear! (2/2)\",\n",
       "  'Now we wait for season 2 of #TheLegendofVoxMachina... will we get more Trinket?! If the amazing folks at @TitmouseInc &amp; @CriticalRole ever need of bear inspiration, I work with some wonderful good boys like Lucky who would love to provide reference materials! (1/2) https://t.co/vYuI4X1SSx',\n",
       "  '@leidensygdom Floryn, gnome grave cleric and Glenn, her giant badger beastie and battle mount! https://t.co/2Y6ct1Vh5D',\n",
       "  '@samriegel Incredible episodes!!',\n",
       "  \"@robbiedaymond You've been wonderful! Sorry to see you go, but looking forward to future ExU specials and any other glimpses we might get of Dorian!\",\n",
       "  'Laudna what is you doin bb #CriticalRoleSpoilers']}"
      ]
     },
     "execution_count": 16,
     "metadata": {},
     "output_type": "execute_result"
    }
   ],
   "source": [
    "Tweets = {'uid': [], 'tweet': []}\n",
    "with open('W:/Dataset/Bot/Twibot22/tweet_0.json', 'r') as f:\n",
    "    parser = ijson.parse(f)\n",
    "    #key_prefix = ['item.author_id','hashtags','text']\n",
    "    for i in range(1000):\n",
    "        prefix, event, value = next(parser)\n",
    "    #for prefix, event, value in parser: # all the file\n",
    "        if prefix=='item.author_id':\n",
    "            Tweets['uid'].append(value)\n",
    "        if prefix=='item.text':\n",
    "            Tweets['tweet'].append(value)\n",
    "#Tweets = pd.DataFrame(Tweets)\n",
    "Tweets"
   ]
  }
 ],
 "metadata": {
  "kernelspec": {
   "display_name": "Python 3",
   "language": "python",
   "name": "python3"
  },
  "language_info": {
   "codemirror_mode": {
    "name": "ipython",
    "version": 3
   },
   "file_extension": ".py",
   "mimetype": "text/x-python",
   "name": "python",
   "nbconvert_exporter": "python",
   "pygments_lexer": "ipython3",
   "version": "3.9.7"
  }
 },
 "nbformat": 4,
 "nbformat_minor": 5
}
