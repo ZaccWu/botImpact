{
 "cells": [
  {
   "cell_type": "code",
   "execution_count": 1,
   "id": "1be7cf7e",
   "metadata": {},
   "outputs": [],
   "source": [
    "import pandas as pd\n",
    "import numpy as np\n",
    "import json\n",
    "import networkx as nx\n",
    "import matplotlib.pyplot as plt"
   ]
  },
  {
   "cell_type": "code",
   "execution_count": 2,
   "id": "e27bbe99",
   "metadata": {},
   "outputs": [
    {
     "name": "stdout",
     "output_type": "stream",
     "text": [
      "1000000\n"
     ]
    },
    {
     "data": {
      "text/html": [
       "<div>\n",
       "<style scoped>\n",
       "    .dataframe tbody tr th:only-of-type {\n",
       "        vertical-align: middle;\n",
       "    }\n",
       "\n",
       "    .dataframe tbody tr th {\n",
       "        vertical-align: top;\n",
       "    }\n",
       "\n",
       "    .dataframe thead th {\n",
       "        text-align: right;\n",
       "    }\n",
       "</style>\n",
       "<table border=\"1\" class=\"dataframe\">\n",
       "  <thead>\n",
       "    <tr style=\"text-align: right;\">\n",
       "      <th></th>\n",
       "      <th>id</th>\n",
       "      <th>location</th>\n",
       "    </tr>\n",
       "  </thead>\n",
       "  <tbody>\n",
       "    <tr>\n",
       "      <th>0</th>\n",
       "      <td>u1217628182611927040</td>\n",
       "      <td>Cambridge, MA</td>\n",
       "    </tr>\n",
       "    <tr>\n",
       "      <th>1</th>\n",
       "      <td>u2664730894</td>\n",
       "      <td>🎈</td>\n",
       "    </tr>\n",
       "    <tr>\n",
       "      <th>2</th>\n",
       "      <td>u1266703520205549568</td>\n",
       "      <td>None</td>\n",
       "    </tr>\n",
       "    <tr>\n",
       "      <th>3</th>\n",
       "      <td>u1089159225148882949</td>\n",
       "      <td>Charlottesville, VA</td>\n",
       "    </tr>\n",
       "    <tr>\n",
       "      <th>4</th>\n",
       "      <td>u36741729</td>\n",
       "      <td>United States</td>\n",
       "    </tr>\n",
       "  </tbody>\n",
       "</table>\n",
       "</div>"
      ],
      "text/plain": [
       "                     id             location\n",
       "0  u1217628182611927040        Cambridge, MA\n",
       "1           u2664730894                    🎈\n",
       "2  u1266703520205549568                 None\n",
       "3  u1089159225148882949  Charlottesville, VA\n",
       "4             u36741729        United States"
      ]
     },
     "execution_count": 2,
     "metadata": {},
     "output_type": "execute_result"
    }
   ],
   "source": [
    "df = pd.read_json('D:/wzy/bot/twi22/user.json')[['id', 'location']]\n",
    "print(len(df))\n",
    "df.head()"
   ]
  },
  {
   "cell_type": "code",
   "execution_count": 3,
   "id": "fa7a5ce2",
   "metadata": {},
   "outputs": [],
   "source": [
    "df.set_index('id', inplace=True)"
   ]
  },
  {
   "cell_type": "code",
   "execution_count": 15,
   "id": "fe57dad3",
   "metadata": {},
   "outputs": [
    {
     "name": "stdout",
     "output_type": "stream",
     "text": [
      "Check num of edges:  (2, 800554)\n",
      "Num of user selected:  157029\n"
     ]
    }
   ],
   "source": [
    "# example: network in topic 3\n",
    "#tweet = pd.read_csv('twi22/processed/topic_tweet1_covid.csv')\n",
    "tweet = pd.read_csv('twi22/processed/topic_tweet2_war.csv') \n",
    "#tweet = pd.read_csv('twi22/processed/topic_tweet3_climate.csv') \n",
    "\n",
    "followers = pd.read_csv('followers.csv')\n",
    "following = pd.read_csv('following.csv')\n",
    "label = pd.read_csv('twi22/label.csv')\n",
    "\n",
    "tweet['uid'] = 'u'+tweet['uid'].astype(str)\n",
    "select_user_id = set(tweet['uid'])&set(label['id'])\n",
    "select_user_id = pd.DataFrame({'select_uid': list(select_user_id)})\n",
    "\n",
    "# 只保留网络中讨论过这个话题的用户\n",
    "select_followers = pd.merge(followers, select_user_id, left_on='source_id', right_on='select_uid', how='right')\n",
    "select_followers.dropna(axis=0, inplace=True)\n",
    "select_followers = pd.merge(select_followers, select_user_id, left_on='target_id', right_on='select_uid', how='right')\n",
    "select_followers.dropna(axis=0, inplace=True)\n",
    "select_followers = select_followers[['source_id', 'target_id']]\n",
    "\n",
    "select_following = pd.merge(following, select_user_id, left_on='source_id', right_on='select_uid', how='right')\n",
    "select_following.dropna(axis=0, inplace=True)\n",
    "select_following = pd.merge(select_following, select_user_id, left_on='target_id', right_on='select_uid', how='right')\n",
    "select_following.dropna(axis=0, inplace=True)\n",
    "select_following = select_following[['source_id', 'target_id']]\n",
    "# print(len(select_followers), len(select_following))\n",
    "\n",
    "# 转化为(2, Num_edges)格式的numpy array, 其中第0行节点follow第1行节点\n",
    "edges_1 = np.array([select_followers['target_id'].to_list(), select_followers['source_id'].to_list()])\n",
    "edges_2 = np.array([select_following['source_id'].to_list(), select_following['target_id'].to_list()])\n",
    "edges = np.concatenate([edges_1, edges_2], axis=1)\n",
    "print(\"Check num of edges: \", edges.shape)\n",
    "\n",
    "# 相应主题下有bot label和relation的uid（用于最终GNN training和effect estimatin）\n",
    "final_uid = (set(select_user_id['select_uid'])&set(edges[0]))|(set(select_user_id['select_uid'])&set(edges[1]))\n",
    "print(\"Num of user selected: \", len(final_uid))"
   ]
  },
  {
   "cell_type": "code",
   "execution_count": 16,
   "id": "df54931d",
   "metadata": {},
   "outputs": [
    {
     "name": "stdout",
     "output_type": "stream",
     "text": [
      "Num nodes:  157029 Num edges:  796236\n",
      "Num nodes:  157029 Num edges:  796236\n"
     ]
    }
   ],
   "source": [
    "# Using networkx for network data analysis\n",
    "import networkx as nx\n",
    "G = nx.DiGraph()\n",
    "# add the edges (directed)\n",
    "for e in range(len(edges[0])):\n",
    "    G.add_edge(edges[0][e], edges[1][e])\n",
    "print(\"Num nodes: \", len(G.nodes), \"Num edges: \", len(G.edges))\n",
    "\n",
    "# add the node label (bot or human)\n",
    "label.set_index('id', inplace=True)\n",
    "for node_id in G.nodes():\n",
    "    G.add_nodes_from([(node_id, {'label': label.loc[node_id, 'label']})])\n",
    "print(\"Num nodes: \", len(G.nodes), \"Num edges: \", len(G.edges))"
   ]
  },
  {
   "cell_type": "code",
   "execution_count": 17,
   "id": "ed85fa96",
   "metadata": {},
   "outputs": [
    {
     "name": "stdout",
     "output_type": "stream",
     "text": [
      "                                      location location_map1\n",
      "id                                                          \n",
      "u1217628182611927040             Cambridge, MA            UK\n",
      "u2664730894                                  🎈           NaN\n",
      "u1266703520205549568                      None           NaN\n",
      "u1089159225148882949       Charlottesville, VA           USA\n",
      "u36741729                        United States           USA\n",
      "u1365527332627247104  Salem, Tamil Nadu, India           NaN\n",
      "u1679822588                                 🇬🇧           NaN\n",
      "u1519144464             Umhlanga, South Africa           NaN\n",
      "u15211869              ÜT: 38.911326,-77.04508           NaN\n",
      "u1309034737756000256                      None           NaN\n",
      "u1341789703633178624                      None           NaN\n",
      "u848975226                                None           NaN\n",
      "u1109809482656149504                      None           NaN\n",
      "u138814032                           Argentina     Argentina\n",
      "u457554412                     London, England            UK\n",
      "u17899123               neither here nor there           NaN\n",
      "u2465283662                               None           NaN\n",
      "u1467973039883182090                      None           NaN\n",
      "u234059290              Salt Lake City,UT, USA           NaN\n",
      "u1142890104853106688                      None           NaN\n"
     ]
    }
   ],
   "source": [
    "with open('User_location.csv', 'r', encoding='utf-8', errors='ignore') as f:\n",
    "    location_map1 = pd.read_csv(f)\n",
    "mapping = dict(zip(location_map1['Original_location'], location_map1['map1']))\n",
    "df['location_map1'] = df['location'].map(mapping)\n",
    "print(df.head(20))"
   ]
  },
  {
   "cell_type": "code",
   "execution_count": 18,
   "id": "03de0713",
   "metadata": {},
   "outputs": [],
   "source": [
    "G_HfollowingH = G.edge_subgraph([(u,v) for u,v,d in G.edges(data=True) if G.nodes[u]['label']=='human' and G.nodes[v]['label']=='human'])\n",
    "G_HfollowingB = G.edge_subgraph([(u,v) for u,v,d in G.edges(data=True) if G.nodes[u]['label']=='human' and G.nodes[v]['label']=='bot'])\n",
    "G_BfollowingH = G.edge_subgraph([(u,v) for u,v,d in G.edges(data=True) if G.nodes[u]['label']=='bot' and G.nodes[v]['label']=='human'])\n",
    "G_BfollowingB = G.edge_subgraph([(u,v) for u,v,d in G.edges(data=True) if G.nodes[u]['label']=='bot' and G.nodes[v]['label']=='bot'])"
   ]
  },
  {
   "cell_type": "code",
   "execution_count": 19,
   "id": "0c9b61f3",
   "metadata": {},
   "outputs": [],
   "source": [
    "loc_choice = ['UK', 'USA', 'Argentina', 'France', 'Nigeria', 'Germany', 'Iran', \n",
    "    'India', 'Global', 'Thailand', 'Indonesia', 'Netherlands',\n",
    "    'Ireland', 'Kenya', 'Mexico', 'Japan', 'Egypt', 'Canada', 'Spain',\n",
    "    'South Africa', 'Australia', 'HK', 'Pakistan', 'Denmark', 'China',\n",
    "    'Uganda', 'Sweden', 'Singapore', 'Switzerland', 'Vague', 'Austria',\n",
    "    'Europe', 'Tanzania', 'Malaysia', 'Israel', 'Bangladesh', 'Brasil',\n",
    "    'Turkey', 'Ghana', 'Italy', 'New Zealand', 'Venezuela', 'Colombia',\n",
    "    'Russia', 'Brazil', 'Belgium', 'Africa', 'UAE', 'Norway', 'Peru',\n",
    "    'Sri Lanka', 'Metaverse', 'Portugal', 'Finland', 'Philippines',\n",
    "    'Ukraine', 'Chile', 'Saudi Arabia']"
   ]
  },
  {
   "cell_type": "code",
   "execution_count": 22,
   "id": "72941e80",
   "metadata": {},
   "outputs": [],
   "source": [
    "'''\n",
    "-> follow关系\n",
    "一个假设：location代表一种homophily\n",
    "计算A->B中，A和B相同trait比例：对比Human→Human和Human→Bot的关系；人们主动选择朋友可能因为homophily，但是选择bot不一定（如果只是为了获取信息等）\n",
    "计算A->B中，所有B的相似程度：对比Human→Human和Bot→Human的关系；因为Homophily，人follow的朋友们也是相似的，而bot如果随机选择连接，那bot follow的人彼此间应该不是那么相似\n",
    "'''\n",
    "\n",
    "def cal_homo_rate(Input_G):\n",
    "    homo_rate = []\n",
    "    for node in Input_G:\n",
    "        location = df.loc[node]['location_map1']\n",
    "        if location not in loc_choice:\n",
    "            continue\n",
    "        following_nodes = list(G.successors(node))\n",
    "        if len(following_nodes)==0:\n",
    "            continue\n",
    "        sum_s = []\n",
    "        for flw_node in following_nodes:\n",
    "            location_flw = df.loc[flw_node]['location_map1']\n",
    "            if location_flw not in loc_choice:\n",
    "                continue\n",
    "            else:\n",
    "                sum_s.append((location_flw == location))\n",
    "        if len(sum_s)==0:\n",
    "            continue\n",
    "\n",
    "        rate = sum(sum_s) / len(sum_s)\n",
    "        homo_rate.append(rate)\n",
    "    return homo_rate\n",
    "\n",
    "def cal_neighomo_rate(Input_G):\n",
    "    homo_rate = []\n",
    "    for node in Input_G:\n",
    "        location = df.loc[node]['location_map1']\n",
    "        if location not in loc_choice:\n",
    "            continue\n",
    "        following_nodes = list(G.successors(node))\n",
    "        if len(following_nodes)==0 or len(following_nodes)==1:\n",
    "            continue\n",
    "\n",
    "        sum_s = []\n",
    "        for i in range(len(following_nodes)):\n",
    "            location_i = df.loc[following_nodes[i]]['location_map1']\n",
    "            if location_i not in loc_choice:\n",
    "                continue\n",
    "            for j in range(i, len(following_nodes)):\n",
    "                location_j = df.loc[following_nodes[j]]['location_map1']\n",
    "                if location_j not in loc_choice:\n",
    "                    continue    \n",
    "                else:\n",
    "                    sum_s.append((location_i == location_j))\n",
    "        if len(sum_s)==0:\n",
    "            continue\n",
    "\n",
    "        rate = sum(sum_s) / len(sum_s)\n",
    "        homo_rate.append(rate)\n",
    "    return homo_rate\n",
    "\n",
    "# hfh_homo = cal_homo_rate(G_HfollowingH)\n",
    "# hfb_homo = cal_homo_rate(G_HfollowingB)\n",
    "\n",
    "# hfh_neighomo = cal_neighomo_rate(G_HfollowingH)\n",
    "# bfh_neighomo = cal_neighomo_rate(G_BfollowingH)\n",
    "\n",
    "hfbyh_homo = cal_homo_rate(G_HfollowingH.reverse())\n",
    "bfbyh_homo = cal_homo_rate(G_HfollowingB.reverse())\n",
    "hfbyb_homo = cal_homo_rate(G_BfollowingH.reverse())\n",
    "\n",
    "hfbyh_neighomo = cal_neighomo_rate(G_HfollowingH.reverse())\n",
    "bfbyh_neighomo = cal_neighomo_rate(G_HfollowingB.reverse())\n",
    "\n",
    "# print(\"Human following Human: \", np.mean(hfh_homo))\n",
    "# print(\"Human following Bot: \", np.mean(hfb_homo))\n",
    "\n",
    "# print(\"Human following Human: \", np.mean(hfh_neighomo))\n",
    "# print(\"Bot following Human: \", np.mean(bfh_neighomo))\n",
    "\n",
    "# focal-neighbor\n",
    "print(\"Human followed by Human: \", np.mean(hfbyh_homo))\n",
    "print(\"Bot followed by Human: \", np.mean(bfbyh_homo))\n",
    "print(\"Human followed by Human: \", np.mean(hfbyh_homo))\n",
    "\n",
    "# neighbors\n",
    "print(\"Human followed by Human: \", np.mean(hfbyh_neighomo))\n",
    "print(\"Bot followed by Human: \", np.mean(bfbyh_neighomo))"
   ]
  },
  {
   "cell_type": "code",
   "execution_count": null,
   "id": "85c20f1c",
   "metadata": {},
   "outputs": [
    {
     "name": "stdout",
     "output_type": "stream",
     "text": [
      "test homo: t= 1.6584062251588976  ,p= 0.09726432690373948\n",
      "test neighomo: t= 16.60143730480592  ,p= 8.044359067688275e-61\n",
      "test homo: t= 1.6584062251588976  ,p= 0.09726432690373948\n",
      "test neighomo: t= 21.385356657549004  ,p= 1.7775808677827884e-98\n"
     ]
    }
   ],
   "source": [
    "# t test\n",
    "from scipy import stats\n",
    "# t1, p1 = stats.ttest_ind(hfh_homo, hfb_homo)\n",
    "# t2, p2 = stats.ttest_ind(hfh_neighomo, bfh_neighomo)\n",
    "t3, p3 = stats.ttest_ind(hfbyh_homo, bfbyh_homo)\n",
    "t4, p4 = stats.ttest_ind(hfbyh_neighomo, bfbyh_neighomo)\n",
    "t5, p5 = stats.ttest_ind(hfbyh_homo, hfbyb_homo)\n",
    "\n",
    "# print(\"test homo: t=\", t1, \" ,p=\", p1)\n",
    "# print(\"test neighomo: t=\", t2, \" ,p=\", p2)\n",
    "print(\"test homo: t=\", t3, \" ,p=\", p3)\n",
    "print(\"test neighomo: t=\", t4, \" ,p=\", p4)"
   ]
  }
 ],
 "metadata": {
  "kernelspec": {
   "display_name": "Python 3",
   "language": "python",
   "name": "python3"
  },
  "language_info": {
   "codemirror_mode": {
    "name": "ipython",
    "version": 3
   },
   "file_extension": ".py",
   "mimetype": "text/x-python",
   "name": "python",
   "nbconvert_exporter": "python",
   "pygments_lexer": "ipython3",
   "version": "3.9.7"
  }
 },
 "nbformat": 4,
 "nbformat_minor": 5
}
