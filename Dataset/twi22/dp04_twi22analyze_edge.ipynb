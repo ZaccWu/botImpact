{
 "cells": [
  {
   "cell_type": "code",
   "execution_count": 1,
   "id": "1be7cf7e",
   "metadata": {},
   "outputs": [],
   "source": [
    "import pandas as pd\n",
    "import numpy as np"
   ]
  },
  {
   "cell_type": "code",
   "execution_count": 35,
   "id": "3a8e1d86",
   "metadata": {},
   "outputs": [],
   "source": [
    "followers = pd.read_csv('followers.csv')\n",
    "following = pd.read_csv('following.csv')\n",
    "label = pd.read_csv('twi22/label.csv')"
   ]
  },
  {
   "cell_type": "markdown",
   "id": "7e77912c",
   "metadata": {},
   "source": [
    "## Select the interested topics (hashtags)"
   ]
  },
  {
   "cell_type": "code",
   "execution_count": 36,
   "id": "76673266",
   "metadata": {},
   "outputs": [
    {
     "data": {
      "text/html": [
       "<div>\n",
       "<style scoped>\n",
       "    .dataframe tbody tr th:only-of-type {\n",
       "        vertical-align: middle;\n",
       "    }\n",
       "\n",
       "    .dataframe tbody tr th {\n",
       "        vertical-align: top;\n",
       "    }\n",
       "\n",
       "    .dataframe thead th {\n",
       "        text-align: right;\n",
       "    }\n",
       "</style>\n",
       "<table border=\"1\" class=\"dataframe\">\n",
       "  <thead>\n",
       "    <tr style=\"text-align: right;\">\n",
       "      <th></th>\n",
       "      <th>uid</th>\n",
       "      <th>tweet</th>\n",
       "    </tr>\n",
       "  </thead>\n",
       "  <tbody>\n",
       "    <tr>\n",
       "      <th>0</th>\n",
       "      <td>u2838934563</td>\n",
       "      <td>RT @Everton: The Club, players and fans are to...</td>\n",
       "    </tr>\n",
       "    <tr>\n",
       "      <th>1</th>\n",
       "      <td>u2838934563</td>\n",
       "      <td>RT @TheAthleticUK: Everton players line up dra...</td>\n",
       "    </tr>\n",
       "    <tr>\n",
       "      <th>2</th>\n",
       "      <td>u763596433534496768</td>\n",
       "      <td>@IgorBrigadir @yoavgo I think this is more abo...</td>\n",
       "    </tr>\n",
       "    <tr>\n",
       "      <th>3</th>\n",
       "      <td>u1291883446307037187</td>\n",
       "      <td>https://t.co/gBgXkNDcEd\\n\\nThe self-proclaimed...</td>\n",
       "    </tr>\n",
       "    <tr>\n",
       "      <th>4</th>\n",
       "      <td>u1291883446307037187</td>\n",
       "      <td>https://t.co/Naqs2n5bx0\\nThe wider region is l...</td>\n",
       "    </tr>\n",
       "  </tbody>\n",
       "</table>\n",
       "</div>"
      ],
      "text/plain": [
       "                    uid                                              tweet\n",
       "0           u2838934563  RT @Everton: The Club, players and fans are to...\n",
       "1           u2838934563  RT @TheAthleticUK: Everton players line up dra...\n",
       "2   u763596433534496768  @IgorBrigadir @yoavgo I think this is more abo...\n",
       "3  u1291883446307037187  https://t.co/gBgXkNDcEd\\n\\nThe self-proclaimed...\n",
       "4  u1291883446307037187  https://t.co/Naqs2n5bx0\\nThe wider region is l..."
      ]
     },
     "execution_count": 36,
     "metadata": {},
     "output_type": "execute_result"
    }
   ],
   "source": [
    "# select the topic\n",
    "#tweet = pd.read_csv('topic_tweet1_covid.csv')\n",
    "tweet = pd.read_csv('topic_tweet2_war.csv') \n",
    "#tweet = pd.read_csv('topic_tweet3_climate.csv') \n",
    "\n",
    "tweet['uid'] = 'u'+tweet['uid'].astype(str)\n",
    "tweet.head()"
   ]
  },
  {
   "cell_type": "code",
   "execution_count": 37,
   "id": "e6b6a2db",
   "metadata": {},
   "outputs": [
    {
     "name": "stdout",
     "output_type": "stream",
     "text": [
      "277467\n"
     ]
    },
    {
     "data": {
      "text/html": [
       "<div>\n",
       "<style scoped>\n",
       "    .dataframe tbody tr th:only-of-type {\n",
       "        vertical-align: middle;\n",
       "    }\n",
       "\n",
       "    .dataframe tbody tr th {\n",
       "        vertical-align: top;\n",
       "    }\n",
       "\n",
       "    .dataframe thead th {\n",
       "        text-align: right;\n",
       "    }\n",
       "</style>\n",
       "<table border=\"1\" class=\"dataframe\">\n",
       "  <thead>\n",
       "    <tr style=\"text-align: right;\">\n",
       "      <th></th>\n",
       "      <th>select_uid</th>\n",
       "    </tr>\n",
       "  </thead>\n",
       "  <tbody>\n",
       "    <tr>\n",
       "      <th>0</th>\n",
       "      <td>u1343522204043128832</td>\n",
       "    </tr>\n",
       "    <tr>\n",
       "      <th>1</th>\n",
       "      <td>u137424427</td>\n",
       "    </tr>\n",
       "    <tr>\n",
       "      <th>2</th>\n",
       "      <td>u15995577</td>\n",
       "    </tr>\n",
       "    <tr>\n",
       "      <th>3</th>\n",
       "      <td>u93946167</td>\n",
       "    </tr>\n",
       "    <tr>\n",
       "      <th>4</th>\n",
       "      <td>u1122773861228060672</td>\n",
       "    </tr>\n",
       "  </tbody>\n",
       "</table>\n",
       "</div>"
      ],
      "text/plain": [
       "             select_uid\n",
       "0  u1343522204043128832\n",
       "1            u137424427\n",
       "2             u15995577\n",
       "3             u93946167\n",
       "4  u1122773861228060672"
      ]
     },
     "execution_count": 37,
     "metadata": {},
     "output_type": "execute_result"
    }
   ],
   "source": [
    "select_user_id = set(tweet['uid'])&set(label['id'])\n",
    "print(len(select_user_id))\n",
    "select_user_id = pd.DataFrame({'select_uid': list(select_user_id)})\n",
    "select_user_id.head()"
   ]
  },
  {
   "cell_type": "code",
   "execution_count": 38,
   "id": "91afe54d",
   "metadata": {},
   "outputs": [
    {
     "name": "stdout",
     "output_type": "stream",
     "text": [
      "Check num of edges:  (2, 800554)\n",
      "Num of user selected:  157029\n"
     ]
    }
   ],
   "source": [
    "# 只保留网络中讨论过这个话题的用户\n",
    "select_followers = pd.merge(followers, select_user_id, left_on='source_id', right_on='select_uid', how='right')\n",
    "select_followers.dropna(axis=0, inplace=True)\n",
    "select_followers = pd.merge(select_followers, select_user_id, left_on='target_id', right_on='select_uid', how='right')\n",
    "select_followers.dropna(axis=0, inplace=True)\n",
    "select_followers = select_followers[['source_id', 'target_id']]\n",
    "\n",
    "select_following = pd.merge(following, select_user_id, left_on='source_id', right_on='select_uid', how='right')\n",
    "select_following.dropna(axis=0, inplace=True)\n",
    "select_following = pd.merge(select_following, select_user_id, left_on='target_id', right_on='select_uid', how='right')\n",
    "select_following.dropna(axis=0, inplace=True)\n",
    "select_following = select_following[['source_id', 'target_id']]\n",
    "# print(len(select_followers), len(select_following))\n",
    "\n",
    "# 转化为(2, Num_edges)格式的numpy array, 其中第0行节点follow第1行节点\n",
    "edges_1 = np.array([select_followers['target_id'].to_list(), select_followers['source_id'].to_list()])\n",
    "edges_2 = np.array([select_following['source_id'].to_list(), select_following['target_id'].to_list()])\n",
    "edges = np.concatenate([edges_1, edges_2], axis=1)\n",
    "print(\"Check num of edges: \", edges.shape)\n",
    "\n",
    "# 相应主题下有bot label和relation的uid（用于最终GNN training和effect estimatin）\n",
    "final_uid = (set(select_user_id['select_uid'])&set(edges[0]))|(set(select_user_id['select_uid'])&set(edges[1]))\n",
    "print(\"Num of user selected: \", len(final_uid))"
   ]
  },
  {
   "cell_type": "markdown",
   "id": "6358ced8",
   "metadata": {},
   "source": [
    "## Network Analysis"
   ]
  },
  {
   "cell_type": "code",
   "execution_count": 39,
   "id": "c33d9ee2",
   "metadata": {},
   "outputs": [
    {
     "name": "stdout",
     "output_type": "stream",
     "text": [
      "Num nodes:  157029 Num edges:  796236\n",
      "Num nodes:  157029 Num edges:  796236\n",
      "{'human': 150595, 'bot': 6434}\n"
     ]
    }
   ],
   "source": [
    "# Using networkx for network data analysis\n",
    "import networkx as nx\n",
    "from collections import Counter\n",
    "\n",
    "G = nx.DiGraph()\n",
    "# add the edges (directed)\n",
    "for e in range(len(edges[0])):\n",
    "    G.add_edge(edges[0][e], edges[1][e])\n",
    "print(\"Num nodes: \", len(G.nodes), \"Num edges: \", len(G.edges))\n",
    "\n",
    "# add the node label (bot or human)\n",
    "label.set_index('id', inplace=True)\n",
    "for node_id in G.nodes():\n",
    "    G.add_nodes_from([(node_id, {'label': label.loc[node_id, 'label']})])\n",
    "print(\"Num nodes: \", len(G.nodes), \"Num edges: \", len(G.edges))\n",
    "\n",
    "label_counts = Counter(nx.get_node_attributes(G, 'label').values())\n",
    "\n",
    "print(dict(label_counts))"
   ]
  },
  {
   "cell_type": "code",
   "execution_count": 40,
   "id": "dd41a009",
   "metadata": {},
   "outputs": [
    {
     "name": "stdout",
     "output_type": "stream",
     "text": [
      "Node degree stat:        Degree  Node Count\n",
      "0          0           0\n",
      "1          1       48816\n",
      "2          2       32292\n",
      "3          3       17487\n",
      "4          4       12072\n",
      "...      ...         ...\n",
      "1035    1035           0\n",
      "1036    1036           0\n",
      "1037    1037           1\n",
      "1038    1038           0\n",
      "1039    1039           1\n",
      "\n",
      "[1040 rows x 2 columns]\n",
      "Ave in-degree of human (5.1664) and bot (2.8283)\n",
      "Ave out-degree of human (5.0497) and bot (5.5609)\n"
     ]
    }
   ],
   "source": [
    "# data analysis\n",
    "import matplotlib.pyplot as plt\n",
    "# 1. check the node degree\n",
    "degree_hist = nx.degree_histogram(G)\n",
    "degree_stat = pd.DataFrame({'Degree': range(len(degree_hist)), 'Node Count': degree_hist})\n",
    "print(\"Node degree stat: \", degree_stat)\n",
    "# 2. check the average in/out degree for human/bot\n",
    "node_labels = nx.get_node_attributes(G, 'label')\n",
    "human_nodes = [node for node, label in node_labels.items() if label=='human']\n",
    "bot_nodes = [node for node, label in node_labels.items() if label=='bot']\n",
    "ind0 = sum(G.in_degree(node) for node in human_nodes)/len(human_nodes)\n",
    "ind1 = sum(G.in_degree(node) for node in bot_nodes)/len(bot_nodes)\n",
    "otd0 = sum(G.out_degree(node) for node in human_nodes)/len(human_nodes)\n",
    "otd1 = sum(G.out_degree(node) for node in bot_nodes)/len(bot_nodes)\n",
    "print(\"Ave in-degree of human ({:.4f}) and bot ({:.4f})\".format(ind0, ind1))\n",
    "print(\"Ave out-degree of human ({:.4f}) and bot ({:.4f})\".format(otd0, otd1))"
   ]
  },
  {
   "cell_type": "code",
   "execution_count": 41,
   "id": "6d27dae5",
   "metadata": {},
   "outputs": [
    {
     "name": "stdout",
     "output_type": "stream",
     "text": [
      "Human following Human:  743707\n",
      "Human following Bot:  16750\n",
      "Bot following Human:  34332\n",
      "Bot following Bot:  1447\n"
     ]
    }
   ],
   "source": [
    "# 3. \"a following b\" graph\n",
    "G_HfollowingH = G.edge_subgraph([(u,v) for u,v,d in G.edges(data=True) if G.nodes[u]['label']=='human' and G.nodes[v]['label']=='human'])\n",
    "G_HfollowingB = G.edge_subgraph([(u,v) for u,v,d in G.edges(data=True) if G.nodes[u]['label']=='human' and G.nodes[v]['label']=='bot'])\n",
    "G_BfollowingH = G.edge_subgraph([(u,v) for u,v,d in G.edges(data=True) if G.nodes[u]['label']=='bot' and G.nodes[v]['label']=='human'])\n",
    "G_BfollowingB = G.edge_subgraph([(u,v) for u,v,d in G.edges(data=True) if G.nodes[u]['label']=='bot' and G.nodes[v]['label']=='bot'])\n",
    "print(\"Human following Human: \", G_HfollowingH.number_of_edges())\n",
    "print(\"Human following Bot: \", G_HfollowingB.number_of_edges())\n",
    "print(\"Bot following Human: \", G_BfollowingH.number_of_edges())\n",
    "print(\"Bot following Bot: \", G_BfollowingB.number_of_edges())"
   ]
  },
  {
   "cell_type": "code",
   "execution_count": 42,
   "id": "0e1eba15",
   "metadata": {},
   "outputs": [],
   "source": [
    "#nx.write_gpickle(G, 'topic_tweet1_covid.pkl')\n",
    "nx.write_gpickle(G, 'topic_tweet2_war.pkl') \n",
    "#nx.write_gpickle(G, 'topic_tweet3_climate.pkl')"
   ]
  }
 ],
 "metadata": {
  "kernelspec": {
   "display_name": "Python 3",
   "language": "python",
   "name": "python3"
  },
  "language_info": {
   "codemirror_mode": {
    "name": "ipython",
    "version": 3
   },
   "file_extension": ".py",
   "mimetype": "text/x-python",
   "name": "python",
   "nbconvert_exporter": "python",
   "pygments_lexer": "ipython3",
   "version": "3.9.7"
  }
 },
 "nbformat": 4,
 "nbformat_minor": 5
}
