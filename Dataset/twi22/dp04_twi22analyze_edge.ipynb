{
 "cells": [
  {
   "cell_type": "code",
   "execution_count": 1,
   "id": "1be7cf7e",
   "metadata": {},
   "outputs": [],
   "source": [
    "import pandas as pd\n",
    "import numpy as np"
   ]
  },
  {
   "cell_type": "code",
   "execution_count": 2,
   "id": "3a8e1d86",
   "metadata": {},
   "outputs": [],
   "source": [
    "followers = pd.read_csv('followers.csv')\n",
    "following = pd.read_csv('following.csv')"
   ]
  },
  {
   "cell_type": "code",
   "execution_count": 3,
   "id": "0c000538",
   "metadata": {},
   "outputs": [
    {
     "name": "stdout",
     "output_type": "stream",
     "text": [
      "followers    1116655\n",
      "Name: relation, dtype: int64\n",
      "following    2626979\n",
      "Name: relation, dtype: int64\n"
     ]
    }
   ],
   "source": [
    "print(followers['relation'].value_counts())\n",
    "print(following['relation'].value_counts())"
   ]
  },
  {
   "cell_type": "code",
   "execution_count": 5,
   "id": "1caef3c9",
   "metadata": {},
   "outputs": [
    {
     "data": {
      "text/html": [
       "<div>\n",
       "<style scoped>\n",
       "    .dataframe tbody tr th:only-of-type {\n",
       "        vertical-align: middle;\n",
       "    }\n",
       "\n",
       "    .dataframe tbody tr th {\n",
       "        vertical-align: top;\n",
       "    }\n",
       "\n",
       "    .dataframe thead th {\n",
       "        text-align: right;\n",
       "    }\n",
       "</style>\n",
       "<table border=\"1\" class=\"dataframe\">\n",
       "  <thead>\n",
       "    <tr style=\"text-align: right;\">\n",
       "      <th></th>\n",
       "      <th>source_id</th>\n",
       "      <th>relation</th>\n",
       "      <th>target_id</th>\n",
       "    </tr>\n",
       "  </thead>\n",
       "  <tbody>\n",
       "    <tr>\n",
       "      <th>0</th>\n",
       "      <td>u980749991491682304</td>\n",
       "      <td>followers</td>\n",
       "      <td>u1480979504696864775</td>\n",
       "    </tr>\n",
       "    <tr>\n",
       "      <th>1</th>\n",
       "      <td>u2704715387</td>\n",
       "      <td>followers</td>\n",
       "      <td>u1483909830159085571</td>\n",
       "    </tr>\n",
       "    <tr>\n",
       "      <th>2</th>\n",
       "      <td>u753165526566899713</td>\n",
       "      <td>followers</td>\n",
       "      <td>u1484420078</td>\n",
       "    </tr>\n",
       "    <tr>\n",
       "      <th>3</th>\n",
       "      <td>u114820052</td>\n",
       "      <td>followers</td>\n",
       "      <td>u18876842</td>\n",
       "    </tr>\n",
       "    <tr>\n",
       "      <th>4</th>\n",
       "      <td>u1924484352</td>\n",
       "      <td>followers</td>\n",
       "      <td>u3408319427</td>\n",
       "    </tr>\n",
       "  </tbody>\n",
       "</table>\n",
       "</div>"
      ],
      "text/plain": [
       "             source_id   relation             target_id\n",
       "0  u980749991491682304  followers  u1480979504696864775\n",
       "1          u2704715387  followers  u1483909830159085571\n",
       "2  u753165526566899713  followers           u1484420078\n",
       "3           u114820052  followers             u18876842\n",
       "4          u1924484352  followers           u3408319427"
      ]
     },
     "execution_count": 5,
     "metadata": {},
     "output_type": "execute_result"
    }
   ],
   "source": [
    "followers.head()"
   ]
  },
  {
   "cell_type": "code",
   "execution_count": 6,
   "id": "46a01a1a",
   "metadata": {},
   "outputs": [
    {
     "data": {
      "text/html": [
       "<div>\n",
       "<style scoped>\n",
       "    .dataframe tbody tr th:only-of-type {\n",
       "        vertical-align: middle;\n",
       "    }\n",
       "\n",
       "    .dataframe tbody tr th {\n",
       "        vertical-align: top;\n",
       "    }\n",
       "\n",
       "    .dataframe thead th {\n",
       "        text-align: right;\n",
       "    }\n",
       "</style>\n",
       "<table border=\"1\" class=\"dataframe\">\n",
       "  <thead>\n",
       "    <tr style=\"text-align: right;\">\n",
       "      <th></th>\n",
       "      <th>source_id</th>\n",
       "      <th>relation</th>\n",
       "      <th>target_id</th>\n",
       "    </tr>\n",
       "  </thead>\n",
       "  <tbody>\n",
       "    <tr>\n",
       "      <th>0</th>\n",
       "      <td>u105387876</td>\n",
       "      <td>following</td>\n",
       "      <td>u402576793</td>\n",
       "    </tr>\n",
       "    <tr>\n",
       "      <th>1</th>\n",
       "      <td>u148520716</td>\n",
       "      <td>following</td>\n",
       "      <td>u59653593</td>\n",
       "    </tr>\n",
       "    <tr>\n",
       "      <th>2</th>\n",
       "      <td>u1276438425457967110</td>\n",
       "      <td>following</td>\n",
       "      <td>u1389155636693381120</td>\n",
       "    </tr>\n",
       "    <tr>\n",
       "      <th>3</th>\n",
       "      <td>u1445432327367237638</td>\n",
       "      <td>following</td>\n",
       "      <td>u848348952084828160</td>\n",
       "    </tr>\n",
       "    <tr>\n",
       "      <th>4</th>\n",
       "      <td>u1445432327367237638</td>\n",
       "      <td>following</td>\n",
       "      <td>u850507814023942144</td>\n",
       "    </tr>\n",
       "  </tbody>\n",
       "</table>\n",
       "</div>"
      ],
      "text/plain": [
       "              source_id   relation             target_id\n",
       "0            u105387876  following            u402576793\n",
       "1            u148520716  following             u59653593\n",
       "2  u1276438425457967110  following  u1389155636693381120\n",
       "3  u1445432327367237638  following   u848348952084828160\n",
       "4  u1445432327367237638  following   u850507814023942144"
      ]
     },
     "execution_count": 6,
     "metadata": {},
     "output_type": "execute_result"
    }
   ],
   "source": [
    "following.head()"
   ]
  },
  {
   "cell_type": "code",
   "execution_count": 8,
   "id": "7e973d57",
   "metadata": {},
   "outputs": [
    {
     "data": {
      "text/html": [
       "<div>\n",
       "<style scoped>\n",
       "    .dataframe tbody tr th:only-of-type {\n",
       "        vertical-align: middle;\n",
       "    }\n",
       "\n",
       "    .dataframe tbody tr th {\n",
       "        vertical-align: top;\n",
       "    }\n",
       "\n",
       "    .dataframe thead th {\n",
       "        text-align: right;\n",
       "    }\n",
       "</style>\n",
       "<table border=\"1\" class=\"dataframe\">\n",
       "  <thead>\n",
       "    <tr style=\"text-align: right;\">\n",
       "      <th></th>\n",
       "      <th>id</th>\n",
       "      <th>label</th>\n",
       "    </tr>\n",
       "  </thead>\n",
       "  <tbody>\n",
       "    <tr>\n",
       "      <th>0</th>\n",
       "      <td>u1217628182611927040</td>\n",
       "      <td>human</td>\n",
       "    </tr>\n",
       "    <tr>\n",
       "      <th>1</th>\n",
       "      <td>u2664730894</td>\n",
       "      <td>human</td>\n",
       "    </tr>\n",
       "    <tr>\n",
       "      <th>2</th>\n",
       "      <td>u1266703520205549568</td>\n",
       "      <td>human</td>\n",
       "    </tr>\n",
       "    <tr>\n",
       "      <th>3</th>\n",
       "      <td>u1089159225148882949</td>\n",
       "      <td>human</td>\n",
       "    </tr>\n",
       "    <tr>\n",
       "      <th>4</th>\n",
       "      <td>u36741729</td>\n",
       "      <td>bot</td>\n",
       "    </tr>\n",
       "  </tbody>\n",
       "</table>\n",
       "</div>"
      ],
      "text/plain": [
       "                     id  label\n",
       "0  u1217628182611927040  human\n",
       "1           u2664730894  human\n",
       "2  u1266703520205549568  human\n",
       "3  u1089159225148882949  human\n",
       "4             u36741729    bot"
      ]
     },
     "execution_count": 8,
     "metadata": {},
     "output_type": "execute_result"
    }
   ],
   "source": [
    "label = pd.read_csv('twi22/label.csv')\n",
    "label.head()"
   ]
  },
  {
   "cell_type": "markdown",
   "id": "7e77912c",
   "metadata": {},
   "source": [
    "## Select the interested topics (hashtags)"
   ]
  },
  {
   "cell_type": "code",
   "execution_count": 9,
   "id": "76673266",
   "metadata": {},
   "outputs": [
    {
     "data": {
      "text/html": [
       "<div>\n",
       "<style scoped>\n",
       "    .dataframe tbody tr th:only-of-type {\n",
       "        vertical-align: middle;\n",
       "    }\n",
       "\n",
       "    .dataframe tbody tr th {\n",
       "        vertical-align: top;\n",
       "    }\n",
       "\n",
       "    .dataframe thead th {\n",
       "        text-align: right;\n",
       "    }\n",
       "</style>\n",
       "<table border=\"1\" class=\"dataframe\">\n",
       "  <thead>\n",
       "    <tr style=\"text-align: right;\">\n",
       "      <th></th>\n",
       "      <th>uid</th>\n",
       "      <th>tweet</th>\n",
       "    </tr>\n",
       "  </thead>\n",
       "  <tbody>\n",
       "    <tr>\n",
       "      <th>0</th>\n",
       "      <td>u763596433534496768</td>\n",
       "      <td>@spbail Is this post-Covid lethargy? I’m so sc...</td>\n",
       "    </tr>\n",
       "    <tr>\n",
       "      <th>1</th>\n",
       "      <td>u1291883446307037187</td>\n",
       "      <td>https://t.co/tKm8HtIAlS\\n\\nHealth Canada autho...</td>\n",
       "    </tr>\n",
       "    <tr>\n",
       "      <th>2</th>\n",
       "      <td>u1291883446307037187</td>\n",
       "      <td>https://t.co/OANVXAlvDU\\n\\nA team of internati...</td>\n",
       "    </tr>\n",
       "    <tr>\n",
       "      <th>3</th>\n",
       "      <td>u1291883446307037187</td>\n",
       "      <td>https://t.co/IZm3Rttpw9\\n\\nJesus is the Truth ...</td>\n",
       "    </tr>\n",
       "    <tr>\n",
       "      <th>4</th>\n",
       "      <td>u1291883446307037187</td>\n",
       "      <td>https://t.co/RUjr0MJgFw\\n\\n(CNN)The world coul...</td>\n",
       "    </tr>\n",
       "  </tbody>\n",
       "</table>\n",
       "</div>"
      ],
      "text/plain": [
       "                    uid                                              tweet\n",
       "0   u763596433534496768  @spbail Is this post-Covid lethargy? I’m so sc...\n",
       "1  u1291883446307037187  https://t.co/tKm8HtIAlS\\n\\nHealth Canada autho...\n",
       "2  u1291883446307037187  https://t.co/OANVXAlvDU\\n\\nA team of internati...\n",
       "3  u1291883446307037187  https://t.co/IZm3Rttpw9\\n\\nJesus is the Truth ...\n",
       "4  u1291883446307037187  https://t.co/RUjr0MJgFw\\n\\n(CNN)The world coul..."
      ]
     },
     "execution_count": 9,
     "metadata": {},
     "output_type": "execute_result"
    }
   ],
   "source": [
    "# select the topic\n",
    "#tweet = pd.read_csv('topic_tweet1_covid.csv')\n",
    "tweet = pd.read_csv('topic_tweet2_war.csv') \n",
    "#tweet = pd.read_csv('topic_tweet3_climate.csv') \n",
    "\n",
    "tweet['uid'] = 'u'+tweet['uid'].astype(str)\n",
    "tweet.head()"
   ]
  },
  {
   "cell_type": "code",
   "execution_count": 20,
   "id": "e6b6a2db",
   "metadata": {},
   "outputs": [
    {
     "name": "stdout",
     "output_type": "stream",
     "text": [
      "269623\n"
     ]
    },
    {
     "data": {
      "text/html": [
       "<div>\n",
       "<style scoped>\n",
       "    .dataframe tbody tr th:only-of-type {\n",
       "        vertical-align: middle;\n",
       "    }\n",
       "\n",
       "    .dataframe tbody tr th {\n",
       "        vertical-align: top;\n",
       "    }\n",
       "\n",
       "    .dataframe thead th {\n",
       "        text-align: right;\n",
       "    }\n",
       "</style>\n",
       "<table border=\"1\" class=\"dataframe\">\n",
       "  <thead>\n",
       "    <tr style=\"text-align: right;\">\n",
       "      <th></th>\n",
       "      <th>select_uid</th>\n",
       "    </tr>\n",
       "  </thead>\n",
       "  <tbody>\n",
       "    <tr>\n",
       "      <th>0</th>\n",
       "      <td>u91032331</td>\n",
       "    </tr>\n",
       "    <tr>\n",
       "      <th>1</th>\n",
       "      <td>u110830686</td>\n",
       "    </tr>\n",
       "    <tr>\n",
       "      <th>2</th>\n",
       "      <td>u1256595851859726337</td>\n",
       "    </tr>\n",
       "    <tr>\n",
       "      <th>3</th>\n",
       "      <td>u706621126</td>\n",
       "    </tr>\n",
       "    <tr>\n",
       "      <th>4</th>\n",
       "      <td>u41090635</td>\n",
       "    </tr>\n",
       "  </tbody>\n",
       "</table>\n",
       "</div>"
      ],
      "text/plain": [
       "             select_uid\n",
       "0             u91032331\n",
       "1            u110830686\n",
       "2  u1256595851859726337\n",
       "3            u706621126\n",
       "4             u41090635"
      ]
     },
     "execution_count": 20,
     "metadata": {},
     "output_type": "execute_result"
    }
   ],
   "source": [
    "select_user_id = set(tweet['uid'])&set(label['id'])\n",
    "print(len(select_user_id))\n",
    "select_user_id = pd.DataFrame({'select_uid': list(select_user_id)})\n",
    "select_user_id.head()"
   ]
  },
  {
   "cell_type": "code",
   "execution_count": 23,
   "id": "91afe54d",
   "metadata": {},
   "outputs": [
    {
     "name": "stdout",
     "output_type": "stream",
     "text": [
      "339849 1016433\n"
     ]
    }
   ],
   "source": [
    "# 只保留网络中讨论过这个话题的用户\n",
    "select_followers = pd.merge(followers, select_user_id, left_on='source_id', right_on='select_uid', how='right')\n",
    "select_followers.dropna(axis=0, inplace=True)\n",
    "select_followers = pd.merge(select_followers, select_user_id, left_on='target_id', right_on='select_uid', how='right')\n",
    "select_followers.dropna(axis=0, inplace=True)\n",
    "select_followers = select_followers[['source_id', 'target_id']]\n",
    "\n",
    "select_following = pd.merge(following, select_user_id, left_on='source_id', right_on='select_uid', how='right')\n",
    "select_following.dropna(axis=0, inplace=True)\n",
    "select_following = pd.merge(select_following, select_user_id, left_on='target_id', right_on='select_uid', how='right')\n",
    "select_following.dropna(axis=0, inplace=True)\n",
    "select_following = select_following[['source_id', 'target_id']]\n",
    "# print(len(select_followers), len(select_following))\n",
    "\n",
    "# 转化为(2, Num_edges)格式的numpy array, 其中第0行节点follow第1行节点\n",
    "edges_1 = np.array([select_followers['target_id'].to_list(), select_followers['source_id'].to_list()])\n",
    "edges_2 = np.array([select_following['source_id'].to_list(), select_following['target_id'].to_list()])\n",
    "edges = np.concatenate([edges_1, edges_2], axis=1)\n",
    "print(\"Check num of edges: \", edges.shape)\n",
    "\n",
    "# 相应主题下有bot label和relation的uid（用于最终GNN training和effect estimatin）\n",
    "final_uid = (set(select_user_id['select_uid'])&set(edges[0]))|(set(select_user_id['select_uid'])&set(edges[1]))\n",
    "print(\"Num of user selected: \", len(final_uid))"
   ]
  },
  {
   "cell_type": "code",
   "execution_count": 33,
   "id": "c33d9ee2",
   "metadata": {},
   "outputs": [
    {
     "name": "stdout",
     "output_type": "stream",
     "text": [
      "Num nodes:  195491\n",
      "Num edges:  1341914\n"
     ]
    }
   ],
   "source": [
    "# Using networkx for network data analysis\n",
    "import networkx as nx\n",
    "G = nx.DiGraph()\n",
    "# add the edges (directed)\n",
    "for e in range(len(edges[0])):\n",
    "    G.add_edge(edges[0][e], edges[1][e])\n",
    "print(\"Num nodes: \", len(G.nodes), \"Num edges: \", len(G.edges))\n",
    "\n",
    "# add the node label (bot or human)\n",
    "label.set_index('id', inplace=True)\n",
    "for node_id in G.nodes():\n",
    "    G.add_nodes_from([(node_id, {'label': label.loc[node_id, 'label']})])\n",
    "print(\"Num nodes: \", len(G.nodes))\n",
    "print(\"Num edges: \", len(G.edges))"
   ]
  },
  {
   "cell_type": "code",
   "execution_count": 47,
   "id": "dd41a009",
   "metadata": {},
   "outputs": [
    {
     "name": "stdout",
     "output_type": "stream",
     "text": [
      "Node degree stat:        Degree  Node Count\n",
      "0          0           0\n",
      "1          1       53027\n",
      "2          2       37302\n",
      "3          3       20313\n",
      "4          4       14295\n",
      "...      ...         ...\n",
      "1163    1163           0\n",
      "1164    1164           0\n",
      "1165    1165           0\n",
      "1166    1166           0\n",
      "1167    1167           1\n",
      "\n",
      "[1168 rows x 2 columns]\n",
      "Ave in-degree of human (7.1490) and bot (3.0872)\n",
      "Ave out-degree of human (6.9373) and bot (5.8961)\n"
     ]
    }
   ],
   "source": [
    "# data analysis\n",
    "import matplotlib.pyplot as plt\n",
    "# 1. check the node degree\n",
    "degree_hist = nx.degree_histogram(G)\n",
    "degree_stat = pd.DataFrame({'Degree': range(len(degree_hist)), 'Node Count': degree_hist})\n",
    "print(\"Node degree stat: \", degree_stat)\n",
    "# 2. check the average in/out degree for human/bot\n",
    "node_labels = nx.get_node_attributes(G, 'label')\n",
    "human_nodes = [node for node, label in node_labels.items() if label=='human']\n",
    "bot_nodes = [node for node, label in node_labels.items() if label=='bot']\n",
    "ind0 = sum(G.in_degree(node) for node in human_nodes)/len(human_nodes)\n",
    "ind1 = sum(G.in_degree(node) for node in bot_nodes)/len(bot_nodes)\n",
    "otd0 = sum(G.out_degree(node) for node in human_nodes)/len(human_nodes)\n",
    "otd1 = sum(G.out_degree(node) for node in bot_nodes)/len(bot_nodes)\n",
    "print(\"Ave in-degree of human ({:.4f}) and bot ({:.4f})\".format(ind0, ind1))\n",
    "print(\"Ave out-degree of human ({:.4f}) and bot ({:.4f})\".format(otd0, otd1))"
   ]
  },
  {
   "cell_type": "code",
   "execution_count": 49,
   "id": "6d27dae5",
   "metadata": {},
   "outputs": [
    {
     "name": "stdout",
     "output_type": "stream",
     "text": [
      "Human following Human:  1222850\n",
      "Human following Bot:  38282\n",
      "Bot following Human:  76766\n",
      "Bot following Bot:  4016\n"
     ]
    }
   ],
   "source": [
    "# 3. \"a following b\" graph\n",
    "G_HfollowingH = G.edge_subgraph([(u,v) for u,v,d in G.edges(data=True) if G.nodes[u]['label']=='human' and G.nodes[v]['label']=='human'])\n",
    "G_HfollowingB = G.edge_subgraph([(u,v) for u,v,d in G.edges(data=True) if G.nodes[u]['label']=='human' and G.nodes[v]['label']=='bot'])\n",
    "G_BfollowingH = G.edge_subgraph([(u,v) for u,v,d in G.edges(data=True) if G.nodes[u]['label']=='bot' and G.nodes[v]['label']=='human'])\n",
    "G_BfollowingB = G.edge_subgraph([(u,v) for u,v,d in G.edges(data=True) if G.nodes[u]['label']=='bot' and G.nodes[v]['label']=='bot'])\n",
    "print(\"Human following Human: \", G_HfollowingH.number_of_edges())\n",
    "print(\"Human following Bot: \", G_HfollowingB.number_of_edges())\n",
    "print(\"Bot following Human: \", G_BfollowingH.number_of_edges())\n",
    "print(\"Bot following Bot: \", G_BfollowingB.number_of_edges())"
   ]
  }
 ],
 "metadata": {
  "kernelspec": {
   "display_name": "Python 3",
   "language": "python",
   "name": "python3"
  },
  "language_info": {
   "codemirror_mode": {
    "name": "ipython",
    "version": 3
   },
   "file_extension": ".py",
   "mimetype": "text/x-python",
   "name": "python",
   "nbconvert_exporter": "python",
   "pygments_lexer": "ipython3",
   "version": "3.9.7"
  }
 },
 "nbformat": 4,
 "nbformat_minor": 5
}
