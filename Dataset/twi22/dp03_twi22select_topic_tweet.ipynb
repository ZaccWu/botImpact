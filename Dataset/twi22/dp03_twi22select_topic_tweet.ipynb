{
 "cells": [
  {
   "cell_type": "code",
   "execution_count": 2,
   "id": "1be7cf7e",
   "metadata": {},
   "outputs": [],
   "source": [
    "import pandas as pd\n",
    "import re\n",
    "import numpy as np"
   ]
  },
  {
   "cell_type": "code",
   "execution_count": 3,
   "id": "b91f879f",
   "metadata": {},
   "outputs": [],
   "source": [
    "topic1 = ['COVID19', 'coronavirus', 'COVID', 'Covid19', 'covid19', 'Omicron', 'Covid_19', 'covid', 'Covid']\n",
    "topic2 = ['Ukraine', 'ukraine', 'Russia', 'StandWithUkraine', 'Ucrania', 'UkraineRussiaWar', 'UkraineRussianWar', 'Russian', 'RussiaUkraineConflict']\n",
    "topic3 = ['climatechange', 'ClimateChange', 'climate', 'Climate', 'ClimateAction', 'ClimateCrisis', 'ClimateReport','ClimateEmergency']\n"
   ]
  },
  {
   "cell_type": "code",
   "execution_count": 8,
   "id": "42348e72",
   "metadata": {},
   "outputs": [
    {
     "name": "stdout",
     "output_type": "stream",
     "text": [
      "Finish process 0!\n",
      "Finish process 1!\n",
      "Finish process 2!\n",
      "Finish process 3!\n",
      "Finish process 4!\n",
      "Finish process 5!\n",
      "Finish process 6!\n",
      "Finish process 7!\n",
      "Finish process 8!\n",
      "Num of tweet: 1208982 2299370 373795\n",
      "Num of user: 269623 277467 89382\n",
      "                     uid                                              tweet\n",
      "499   763596433534496768  @spbail Is this post-Covid lethargy? I’m so sc...\n",
      "598  1291883446307037187  https://t.co/tKm8HtIAlS\\n\\nHealth Canada autho...\n",
      "601  1291883446307037187  https://t.co/OANVXAlvDU\\n\\nA team of internati...\n",
      "611  1291883446307037187  https://t.co/IZm3Rttpw9\\n\\nJesus is the Truth ...\n",
      "634  1291883446307037187  https://t.co/RUjr0MJgFw\\n\\n(CNN)The world coul...\n",
      "809            599136384  Sri Lanka all-rounder and spin sensation Wanid...\n",
      "832            599136384  Brother of the Dhammika  Vedamahatha of Kegall...\n",
      "879            221777661  RT @FPFabrizioPhD: Quello che è successo quest...\n",
      "965            238511615  #Covid Quand s'arrêteront les prophéties apoca...\n",
      "966            238511615  Enfin des intervalles de confiance pour les pr...\n",
      "                     uid                                              tweet\n",
      "241           2838934563  RT @Everton: The Club, players and fans are to...\n",
      "242           2838934563  RT @TheAthleticUK: Everton players line up dra...\n",
      "482   763596433534496768  @IgorBrigadir @yoavgo I think this is more abo...\n",
      "596  1291883446307037187  https://t.co/gBgXkNDcEd\\n\\nThe self-proclaimed...\n",
      "597  1291883446307037187  https://t.co/Naqs2n5bx0\\nThe wider region is l...\n",
      "602  1291883446307037187  https://t.co/bhshItbCL7\\nEuropean Commission P...\n",
      "603  1291883446307037187  https://t.co/QwO7N7u8W9\\n\\nNATO Secretary-Gene...\n",
      "604  1291883446307037187  https://t.co/JKvzU8FIEx\\n\\nIn a dramatic escal...\n",
      "610  1291883446307037187  https://t.co/Qkvmj4khx2\\n\\nThe US, European Un...\n",
      "612  1291883446307037187  https://t.co/4Zi7TaYI8A\\n\\nRussia has seized c...\n",
      "                      uid                                              tweet\n",
      "653   1181610909053140993  RT @LukewSavage: You can't fight climate chang...\n",
      "732    888459915232235524  RT @goodclimate: Nothing, no conceivable consi...\n",
      "1385            288903082  RT @FarmersGov: Apply now for @USDA’s Partners...\n",
      "1393            288903082  We are seeking 3-5 yr agreement proposals that...\n",
      "4343  1366308760092880896  The Forestry Project.\\nKeeping our environment...\n",
      "4580             20606455  RT @TheTyee: Leaders who are women are increas...\n",
      "5060  1428784091869110280  Taking the stage now is Jean-Louis Warnholz - ...\n",
      "5648           2864184746  RT @ClimateAdam: \"Overpopulation\" is when the ...\n",
      "5910            179707847  RT @WorldSoccerMag: Introducing #WorldSoccer's...\n",
      "6458           2302260332  RT @mariannaspring: 🌎 In the first episode of ...\n"
     ]
    }
   ],
   "source": [
    "def contains_word_list1(text):\n",
    "    if type(text)!=str:\n",
    "        return False\n",
    "    for word in topic1:\n",
    "        if word in text:\n",
    "            return True\n",
    "    return False\n",
    "def contains_word_list2(text):\n",
    "    if type(text)!=str:\n",
    "        return False\n",
    "    for word in topic2:\n",
    "        if word in text:\n",
    "            return True\n",
    "    return False\n",
    "def contains_word_list3(text):\n",
    "    if type(text)!=str:\n",
    "        return False\n",
    "    for word in topic3:\n",
    "        if word in text:\n",
    "            return True\n",
    "    return False\n",
    "\n",
    "t_temp = pd.read_csv('tweets0.csv')\n",
    "select_tweet1 = t_temp[t_temp['tweet'].apply(contains_word_list1)]\n",
    "select_tweet2 = t_temp[t_temp['tweet'].apply(contains_word_list2)]\n",
    "select_tweet3 = t_temp[t_temp['tweet'].apply(contains_word_list3)]\n",
    "print(\"Finish process 0!\")\n",
    "for i in range(1, 9):\n",
    "    t_temp = pd.read_csv('tweets'+str(i)+'.csv')\n",
    "    select_tweet1 = pd.concat([select_tweet1, t_temp[t_temp['tweet'].apply(contains_word_list1)]], axis=0)\n",
    "    select_tweet2 = pd.concat([select_tweet2, t_temp[t_temp['tweet'].apply(contains_word_list2)]], axis=0)\n",
    "    select_tweet3 = pd.concat([select_tweet3, t_temp[t_temp['tweet'].apply(contains_word_list3)]], axis=0)\n",
    "    print(\"Finish process \"+str(i)+\"!\")\n",
    "\n",
    "# check num of tweet\n",
    "print(\"Num of tweet:\", len(select_tweet1), len(select_tweet2), len(select_tweet3))\n",
    "print(\"Num of user:\", len(select_tweet1['uid'].unique()), len(select_tweet2['uid'].unique()), len(select_tweet3['uid'].unique()))\n",
    "print(select_tweet1.head(10))\n",
    "print(select_tweet2.head(10))\n",
    "print(select_tweet3.head(10))"
   ]
  },
  {
   "cell_type": "code",
   "execution_count": 12,
   "id": "e935e027",
   "metadata": {},
   "outputs": [],
   "source": [
    "select_tweet1.to_csv('topic_tweet1_covid.csv', index=False)\n",
    "select_tweet2.to_csv('topic_tweet2_war.csv', index=False)\n",
    "select_tweet3.to_csv('topic_tweet3_climate.csv', index=False)"
   ]
  }
 ],
 "metadata": {
  "kernelspec": {
   "display_name": "Python 3",
   "language": "python",
   "name": "python3"
  },
  "language_info": {
   "codemirror_mode": {
    "name": "ipython",
    "version": 3
   },
   "file_extension": ".py",
   "mimetype": "text/x-python",
   "name": "python",
   "nbconvert_exporter": "python",
   "pygments_lexer": "ipython3",
   "version": "3.9.7"
  }
 },
 "nbformat": 4,
 "nbformat_minor": 5
}
