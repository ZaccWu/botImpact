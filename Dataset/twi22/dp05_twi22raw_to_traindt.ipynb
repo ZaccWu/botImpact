{
 "cells": [
  {
   "cell_type": "code",
   "execution_count": 27,
   "id": "1be7cf7e",
   "metadata": {},
   "outputs": [],
   "source": [
    "import pandas as pd\n",
    "import numpy as np\n",
    "import networkx as nx\n",
    "import pickle"
   ]
  },
  {
   "cell_type": "code",
   "execution_count": 61,
   "id": "e27bbe99",
   "metadata": {},
   "outputs": [
    {
     "name": "stdout",
     "output_type": "stream",
     "text": [
      "Nodes:  63865 Len tweet:  63865\n",
      "Edges:  407927\n"
     ]
    }
   ],
   "source": [
    "# with open('twi22/processed/topic_tweet1_covid.pkl', 'rb') as f:\n",
    "#     G = pickle.load(f)\n",
    "# tweet = pd.read_csv('twi22/processed/topic_tweet1_covid_score.csv')\n",
    "\n",
    "# with open('twi22/processed/topic_tweet2_war.pkl', 'rb') as f:\n",
    "#     G = pickle.load(f)\n",
    "# tweet = pd.read_csv('twi22/processed/topic_tweet2_war_score.csv')\n",
    "\n",
    "with open('twi22/processed/topic_tweet3_climate.pkl', 'rb') as f:\n",
    "    G = pickle.load(f)\n",
    "tweet = pd.read_csv('twi22/processed/topic_tweet3_climate_score.csv')\n",
    "\n",
    "tweet.set_index('uid', inplace=True)\n",
    "print(\"Nodes: \", len(G.nodes()), \"Len tweet: \", len(tweet))\n",
    "print(\"Edges: \", len(G.edges()))"
   ]
  },
  {
   "cell_type": "code",
   "execution_count": 62,
   "id": "6738d392",
   "metadata": {},
   "outputs": [
    {
     "name": "stdout",
     "output_type": "stream",
     "text": [
      "1000\n",
      "2000\n",
      "3000\n",
      "4000\n",
      "5000\n",
      "6000\n",
      "7000\n",
      "8000\n",
      "9000\n",
      "10000\n",
      "11000\n",
      "12000\n",
      "13000\n",
      "14000\n",
      "15000\n",
      "16000\n",
      "17000\n",
      "18000\n",
      "19000\n",
      "20000\n",
      "21000\n",
      "22000\n",
      "23000\n",
      "24000\n",
      "25000\n",
      "26000\n",
      "27000\n",
      "28000\n",
      "29000\n",
      "30000\n",
      "31000\n",
      "32000\n",
      "33000\n",
      "34000\n",
      "35000\n",
      "36000\n",
      "37000\n",
      "38000\n",
      "39000\n",
      "40000\n",
      "41000\n",
      "42000\n",
      "43000\n",
      "44000\n",
      "45000\n",
      "46000\n",
      "47000\n",
      "48000\n",
      "49000\n",
      "50000\n",
      "51000\n",
      "52000\n",
      "53000\n",
      "54000\n",
      "55000\n",
      "56000\n",
      "57000\n",
      "58000\n",
      "59000\n",
      "60000\n",
      "61000\n",
      "62000\n",
      "63000\n"
     ]
    }
   ],
   "source": [
    "# treat标-1，control标1，其余标0\n",
    "def set_treat_label(G, focal_node):\n",
    "    # return treat_label + propagate_label\n",
    "    if tweet.loc[focal_node]['StScore']>0.8:\n",
    "        prop = 1\n",
    "    else:\n",
    "        prop = 0\n",
    "    if G.nodes[focal_node]['label']=='bot':\n",
    "        return 0, prop\n",
    "    following_nodes = list(G.successors(focal_node))\n",
    "    condition = []\n",
    "    for check_node_id in following_nodes:\n",
    "        if tweet.loc[check_node_id]['StScore']>0.8:    # sentiment threshold\n",
    "            if G.nodes[check_node_id]['label']=='human':\n",
    "                condition.append(1)\n",
    "            elif G.nodes[check_node_id]['label']=='bot':\n",
    "                condition.append(2)\n",
    "    exist_1 = 1 in set(condition)\n",
    "    exist_2 = 2 in set(condition)\n",
    "    exist_both = exist_1 and exist_2\n",
    "\n",
    "    if exist_1 and not exist_both:\n",
    "        return -1, prop # treat\n",
    "    elif exist_2 and not exist_both:\n",
    "        return 1, prop # control\n",
    "    else:\n",
    "        return 0, prop\n",
    "\n",
    "i = 0\n",
    "for node in G.nodes:\n",
    "    i+=1\n",
    "    G.nodes[node]['treat'], G.nodes[node]['prop'] = set_treat_label(G, node)\n",
    "    if i%1000 == 0:\n",
    "        print(i)\n",
    "    \n"
   ]
  },
  {
   "cell_type": "code",
   "execution_count": 63,
   "id": "e5e33821",
   "metadata": {},
   "outputs": [
    {
     "name": "stdout",
     "output_type": "stream",
     "text": [
      "Edges:  (407927, 2)\n",
      "b, t, prop, y shape:  (63865,) (63865,) (63865,) (63865,)\n"
     ]
    }
   ],
   "source": [
    "node_map = {node: idx for idx, node in enumerate(G.nodes)}\n",
    "# 有向图edge关系，第0行follow第1行\n",
    "edge_index = np.array([[node_map[edge[0]], node_map[edge[1]]] for edge in G.edges])\n",
    "print(\"Edges: \", edge_index.shape)\n",
    "\n",
    "bot_label = np.array([0 if G.nodes[i]['label']=='human' else 1 for i in G.nodes])\n",
    "treat_label = np.array([G.nodes[i]['treat'] for i in G.nodes])\n",
    "prop_label = np.array([G.nodes[i]['prop'] for i in G.nodes])\n",
    "y_truth = np.array([tweet.loc[i]['StScore'] for i in G.nodes])\n",
    "print(\"b, t, prop, y shape: \", bot_label.shape, treat_label.shape, y_truth.shape, prop_label.shape)\n"
   ]
  },
  {
   "cell_type": "code",
   "execution_count": 64,
   "id": "ac475a85",
   "metadata": {},
   "outputs": [],
   "source": [
    "# np.save('twi22/t1_covid/t1_edge.npy', edge_index)\n",
    "# np.save('twi22/t1_covid/t1_bot_label.npy', bot_label)\n",
    "# np.save('twi22/t1_covid/t1_T_label.npy', treat_label)\n",
    "# np.save('twi22/t1_covid/t1_y.npy', y_truth)\n",
    "# np.save('twi22/t1_covid/t1_prop_label.npy', prop_label)\n",
    "\n",
    "# np.save('twi22/t2_war/t2_edge.npy', edge_index)\n",
    "# np.save('twi22/t2_war/t2_bot_label.npy', bot_label)\n",
    "# np.save('twi22/t2_war/t2_T_label.npy', treat_label)\n",
    "# np.save('twi22/t2_war/t2_y.npy', y_truth)\n",
    "# np.save('twi22/t2_war/t2_prop_label.npy', prop_label)\n",
    "\n",
    "np.save('twi22/t3_climate/t3_edge.npy', edge_index)\n",
    "np.save('twi22/t3_climate/t3_bot_label.npy', bot_label)\n",
    "np.save('twi22/t3_climate/t3_T_label.npy', treat_label)\n",
    "np.save('twi22/t3_climate/t3_y.npy', y_truth)\n",
    "np.save('twi22/t3_climate/t3_prop_label.npy', prop_label)"
   ]
  }
 ],
 "metadata": {
  "kernelspec": {
   "display_name": "Python 3",
   "language": "python",
   "name": "python3"
  },
  "language_info": {
   "codemirror_mode": {
    "name": "ipython",
    "version": 3
   },
   "file_extension": ".py",
   "mimetype": "text/x-python",
   "name": "python",
   "nbconvert_exporter": "python",
   "pygments_lexer": "ipython3",
   "version": "3.9.7"
  }
 },
 "nbformat": 4,
 "nbformat_minor": 5
}
