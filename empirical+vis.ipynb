{
 "cells": [
  {
   "cell_type": "code",
   "execution_count": 1,
   "id": "1be7cf7e",
   "metadata": {
    "pycharm": {
     "name": "#%%\n"
    }
   },
   "outputs": [],
   "source": [
    "import numpy as np\n",
    "import pandas as pd\n",
    "import torch"
   ]
  },
  {
   "cell_type": "code",
   "execution_count": 2,
   "outputs": [],
   "source": [
    "# topic 1 pos\n",
    "bot_label = np.load('Dataset/twi22/t1/t1_pos_bot_label.npy')\n",
    "treat_indicator = np.load('Dataset/twi22/t1/t1_pos_T_label.npy')\n",
    "outcome = np.load('Dataset/twi22/t1/t1_pos_y.npy')\n",
    "prop_label = np.load('Dataset/twi22/t1/t1_pos_prop_label.npy')\n",
    "analysis = pd.DataFrame({'Label': bot_label, 'prop': prop_label, 'Treat': treat_indicator, 'outcome': outcome})"
   ],
   "metadata": {
    "collapsed": false,
    "pycharm": {
     "name": "#%%\n"
    }
   }
  },
  {
   "cell_type": "code",
   "execution_count": 3,
   "outputs": [
    {
     "data": {
      "text/plain": "0    34169\n1     2460\nName: Label, dtype: int64"
     },
     "execution_count": 3,
     "metadata": {},
     "output_type": "execute_result"
    }
   ],
   "source": [
    "# human and bot propagator\n",
    "analysis[analysis['prop']==1]['Label'].value_counts()"
   ],
   "metadata": {
    "collapsed": false,
    "pycharm": {
     "name": "#%%\n"
    }
   }
  },
  {
   "cell_type": "code",
   "execution_count": 4,
   "outputs": [
    {
     "name": "stdout",
     "output_type": "stream",
     "text": [
      "Treat (bot prop):  0.20524876543209897\n",
      "Control (human prop):  0.14865584072878865\n",
      "Num treat/control:  1782 59496\n"
     ]
    }
   ],
   "source": [
    "# average opinion\n",
    "print(\"Treat (bot prop): \", analysis[analysis['Treat']==-1]['outcome'].mean())\n",
    "print(\"Control (human prop): \", analysis[analysis['Treat']==1]['outcome'].mean())\n",
    "print(\"Num treat/control: \", len(analysis[analysis['Treat']==-1]), len(analysis[analysis['Treat']==1]))"
   ],
   "metadata": {
    "collapsed": false,
    "pycharm": {
     "name": "#%%\n"
    }
   }
  },
  {
   "cell_type": "code",
   "execution_count": 5,
   "outputs": [
    {
     "data": {
      "text/plain": "<Figure size 360x216 with 1 Axes>",
      "image/png": "[encoded data removed]"
     },
     "metadata": {
      "needs_background": "light"
     },
     "output_type": "display_data"
    }
   ],
   "source": [
    "import matplotlib.pyplot as plt\n",
    "plt.figure(figsize=(5,3))\n",
    "plt.grid()\n",
    "plt.hist(analysis[analysis['Label']==0]['outcome'], bins=15, label='Human', alpha=0.6, color='gold', edgecolor='black')\n",
    "plt.hist(analysis[analysis['Label']==1]['outcome'], bins=15, label='Bot', alpha=0.75, color='red', edgecolor='black')\n",
    "plt.tick_params(labelsize=12)\n",
    "plt.legend(fontsize=15)\n",
    "plt.savefig('opinion_dist_t1.jpg', dpi=500)\n",
    "plt.show()"
   ],
   "metadata": {
    "collapsed": false,
    "pycharm": {
     "name": "#%%\n"
    }
   }
  },
  {
   "cell_type": "code",
   "execution_count": 6,
   "outputs": [],
   "source": [
    "# topic 1 neg\n",
    "bot_label = np.load('Dataset/twi22/t1/t1_neg_bot_label.npy')\n",
    "treat_indicator = np.load('Dataset/twi22/t1/t1_neg_T_label.npy')\n",
    "outcome = np.load('Dataset/twi22/t1/t1_neg_y.npy')\n",
    "prop_label = np.load('Dataset/twi22/t1/t1_neg_prop_label.npy')\n",
    "analysis = pd.DataFrame({'Label': bot_label, 'prop': prop_label, 'Treat': treat_indicator, 'outcome': outcome})"
   ],
   "metadata": {
    "collapsed": false,
    "pycharm": {
     "name": "#%%\n"
    }
   }
  },
  {
   "cell_type": "code",
   "execution_count": 7,
   "outputs": [
    {
     "data": {
      "text/plain": "0    17553\n1     1038\nName: Label, dtype: int64"
     },
     "execution_count": 7,
     "metadata": {},
     "output_type": "execute_result"
    }
   ],
   "source": [
    "# human and bot propagator\n",
    "analysis[analysis['prop']==1]['Label'].value_counts()"
   ],
   "metadata": {
    "collapsed": false,
    "pycharm": {
     "name": "#%%\n"
    }
   }
  },
  {
   "cell_type": "code",
   "execution_count": 8,
   "outputs": [
    {
     "name": "stdout",
     "output_type": "stream",
     "text": [
      "Treat (bot prop):  0.003165189189189204\n",
      "Control (human prop):  0.06156433421129566\n",
      "Num treat/control:  925 34170\n"
     ]
    }
   ],
   "source": [
    "# average opinion\n",
    "print(\"Treat (bot prop): \", analysis[analysis['Treat']==-1]['outcome'].mean())\n",
    "print(\"Control (human prop): \",analysis[analysis['Treat']==1]['outcome'].mean())\n",
    "print(\"Num treat/control: \", len(analysis[analysis['Treat']==-1]), len(analysis[analysis['Treat']==1]))"
   ],
   "metadata": {
    "collapsed": false,
    "pycharm": {
     "name": "#%%\n"
    }
   }
  },
  {
   "cell_type": "code",
   "execution_count": 9,
   "outputs": [],
   "source": [
    "# topic 2 pos\n",
    "bot_label = np.load('Dataset/twi22/t2/t2_pos_bot_label.npy')\n",
    "treat_indicator = np.load('Dataset/twi22/t2/t2_pos_T_label.npy')\n",
    "outcome = np.load('Dataset/twi22/t2/t2_pos_y.npy')\n",
    "prop_label = np.load('Dataset/twi22/t2/t2_pos_prop_label.npy')\n",
    "analysis = pd.DataFrame({'Label': bot_label, 'prop': prop_label, 'Treat': treat_indicator, 'outcome': outcome})"
   ],
   "metadata": {
    "collapsed": false,
    "pycharm": {
     "name": "#%%\n"
    }
   }
  },
  {
   "cell_type": "code",
   "execution_count": 10,
   "outputs": [
    {
     "data": {
      "text/plain": "0    19922\n1      777\nName: Label, dtype: int64"
     },
     "execution_count": 10,
     "metadata": {},
     "output_type": "execute_result"
    }
   ],
   "source": [
    "# human and bot propagator\n",
    "analysis[analysis['prop']==1]['Label'].value_counts()"
   ],
   "metadata": {
    "collapsed": false,
    "pycharm": {
     "name": "#%%\n"
    }
   }
  },
  {
   "cell_type": "code",
   "execution_count": 11,
   "outputs": [
    {
     "name": "stdout",
     "output_type": "stream",
     "text": [
      "Treat (bot prop):  -0.08393858974358975\n",
      "Control (human prop):  -0.1126987842541295\n",
      "Num treat/control:  780 20399\n"
     ]
    }
   ],
   "source": [
    "# average opinion\n",
    "print(\"Treat (bot prop): \", analysis[analysis['Treat']==-1]['outcome'].mean())\n",
    "print(\"Control (human prop): \",analysis[analysis['Treat']==1]['outcome'].mean())\n",
    "print(\"Num treat/control: \", len(analysis[analysis['Treat']==-1]), len(analysis[analysis['Treat']==1]))"
   ],
   "metadata": {
    "collapsed": false,
    "pycharm": {
     "name": "#%%\n"
    }
   }
  },
  {
   "cell_type": "code",
   "execution_count": 12,
   "outputs": [
    {
     "data": {
      "text/plain": "<Figure size 360x216 with 1 Axes>",
      "image/png": "[encoded data removed]"
     },
     "metadata": {
      "needs_background": "light"
     },
     "output_type": "display_data"
    }
   ],
   "source": [
    "import matplotlib.pyplot as plt\n",
    "plt.figure(figsize=(5,3))\n",
    "plt.grid()\n",
    "plt.hist(analysis[analysis['Label']==0]['outcome'], bins=15, label='Human', alpha=0.6, color='gold', edgecolor='black')\n",
    "plt.hist(analysis[analysis['Label']==1]['outcome'], bins=15, label='Bot', alpha=0.75, color='red', edgecolor='black')\n",
    "plt.tick_params(labelsize=12)\n",
    "plt.legend(fontsize=15)\n",
    "plt.savefig('opinion_dist_t2.jpg', dpi=500)\n",
    "plt.show()"
   ],
   "metadata": {
    "collapsed": false,
    "pycharm": {
     "name": "#%%\n"
    }
   }
  },
  {
   "cell_type": "code",
   "execution_count": 13,
   "outputs": [],
   "source": [
    "# topic 2 neg\n",
    "bot_label = np.load('Dataset/twi22/t2/t2_neg_bot_label.npy')\n",
    "treat_indicator = np.load('Dataset/twi22/t2/t2_neg_T_label.npy')\n",
    "outcome = np.load('Dataset/twi22/t2/t2_neg_y.npy')\n",
    "prop_label = np.load('Dataset/twi22/t2/t2_neg_prop_label.npy')\n",
    "analysis = pd.DataFrame({'Label': bot_label, 'prop': prop_label, 'Treat': treat_indicator, 'outcome': outcome})"
   ],
   "metadata": {
    "collapsed": false,
    "pycharm": {
     "name": "#%%\n"
    }
   }
  },
  {
   "cell_type": "code",
   "execution_count": 14,
   "outputs": [
    {
     "data": {
      "text/plain": "0    40701\n1     1267\nName: Label, dtype: int64"
     },
     "execution_count": 14,
     "metadata": {},
     "output_type": "execute_result"
    }
   ],
   "source": [
    "# human and bot propagator\n",
    "analysis[analysis['prop']==1]['Label'].value_counts()"
   ],
   "metadata": {
    "collapsed": false,
    "pycharm": {
     "name": "#%%\n"
    }
   }
  },
  {
   "cell_type": "code",
   "execution_count": 15,
   "outputs": [
    {
     "name": "stdout",
     "output_type": "stream",
     "text": [
      "Treat (bot prop):  -0.26813522267206474\n",
      "Control (human prop):  -0.1750625938364274\n",
      "Num treat/control:  494 30372\n"
     ]
    }
   ],
   "source": [
    "# average opinion\n",
    "print(\"Treat (bot prop): \", analysis[analysis['Treat']==-1]['outcome'].mean())\n",
    "print(\"Control (human prop): \",analysis[analysis['Treat']==1]['outcome'].mean())\n",
    "print(\"Num treat/control: \", len(analysis[analysis['Treat']==-1]), len(analysis[analysis['Treat']==1]))"
   ],
   "metadata": {
    "collapsed": false,
    "pycharm": {
     "name": "#%%\n"
    }
   }
  },
  {
   "cell_type": "code",
   "execution_count": 16,
   "outputs": [],
   "source": [
    "# topic 3 pos\n",
    "bot_label = np.load('Dataset/twi22/t3/t3_pos_bot_label.npy')\n",
    "treat_indicator = np.load('Dataset/twi22/t3/t3_pos_T_label.npy')\n",
    "outcome = np.load('Dataset/twi22/t3/t3_pos_y.npy')\n",
    "prop_label = np.load('Dataset/twi22/t3/t3_pos_prop_label.npy')\n",
    "analysis = pd.DataFrame({'Label': bot_label, 'prop': prop_label, 'Treat': treat_indicator, 'outcome': outcome})"
   ],
   "metadata": {
    "collapsed": false,
    "pycharm": {
     "name": "#%%\n"
    }
   }
  },
  {
   "cell_type": "code",
   "execution_count": 17,
   "outputs": [
    {
     "data": {
      "text/plain": "0    13377\n1      736\nName: Label, dtype: int64"
     },
     "execution_count": 17,
     "metadata": {},
     "output_type": "execute_result"
    }
   ],
   "source": [
    "# human and bot propagator\n",
    "analysis[analysis['prop']==1]['Label'].value_counts()"
   ],
   "metadata": {
    "collapsed": false,
    "pycharm": {
     "name": "#%%\n"
    }
   }
  },
  {
   "cell_type": "code",
   "execution_count": 18,
   "outputs": [
    {
     "name": "stdout",
     "output_type": "stream",
     "text": [
      "Treat (bot prop):  0.1537042813455658\n",
      "Control (human prop):  0.21751235379235387\n",
      "Num treat/control:  327 16586\n"
     ]
    }
   ],
   "source": [
    "# average opinion\n",
    "print(\"Treat (bot prop): \", analysis[analysis['Treat']==-1]['outcome'].mean())\n",
    "print(\"Control (human prop): \",analysis[analysis['Treat']==1]['outcome'].mean())\n",
    "print(\"Num treat/control: \", len(analysis[analysis['Treat']==-1]), len(analysis[analysis['Treat']==1]))"
   ],
   "metadata": {
    "collapsed": false,
    "pycharm": {
     "name": "#%%\n"
    }
   }
  },
  {
   "cell_type": "code",
   "execution_count": 19,
   "outputs": [
    {
     "data": {
      "text/plain": "<Figure size 360x216 with 1 Axes>",
      "image/png": "[encoded data removed]"
     },
     "metadata": {
      "needs_background": "light"
     },
     "output_type": "display_data"
    }
   ],
   "source": [
    "import matplotlib.pyplot as plt\n",
    "plt.figure(figsize=(5,3))\n",
    "plt.grid()\n",
    "plt.hist(analysis[analysis['Label']==0]['outcome'], bins=15, label='Human', alpha=0.6, color='gold', edgecolor='black')\n",
    "plt.hist(analysis[analysis['Label']==1]['outcome'], bins=15, label='Bot', alpha=0.75, color='red', edgecolor='black')\n",
    "plt.tick_params(labelsize=12)\n",
    "plt.legend(fontsize=15)\n",
    "plt.savefig('opinion_dist_t3.jpg', dpi=500)\n",
    "plt.show()"
   ],
   "metadata": {
    "collapsed": false,
    "pycharm": {
     "name": "#%%\n"
    }
   }
  },
  {
   "cell_type": "code",
   "execution_count": 20,
   "outputs": [],
   "source": [
    "# topic 3 neg\n",
    "bot_label = np.load('Dataset/twi22/t3/t3_neg_bot_label.npy')\n",
    "treat_indicator = np.load('Dataset/twi22/t3/t3_neg_T_label.npy')\n",
    "outcome = np.load('Dataset/twi22/t3/t3_neg_y.npy')\n",
    "prop_label = np.load('Dataset/twi22/t3/t3_neg_prop_label.npy')\n",
    "analysis = pd.DataFrame({'Label': bot_label, 'prop': prop_label, 'Treat': treat_indicator, 'outcome': outcome})"
   ],
   "metadata": {
    "collapsed": false,
    "pycharm": {
     "name": "#%%\n"
    }
   }
  },
  {
   "cell_type": "code",
   "execution_count": 21,
   "outputs": [
    {
     "data": {
      "text/plain": "0    4945\n1     227\nName: Label, dtype: int64"
     },
     "execution_count": 21,
     "metadata": {},
     "output_type": "execute_result"
    }
   ],
   "source": [
    "# human and bot propagator\n",
    "analysis[analysis['prop']==1]['Label'].value_counts()"
   ],
   "metadata": {
    "collapsed": false,
    "pycharm": {
     "name": "#%%\n"
    }
   }
  },
  {
   "cell_type": "code",
   "execution_count": 22,
   "outputs": [
    {
     "name": "stdout",
     "output_type": "stream",
     "text": [
      "Treat (bot prop):  0.19528724035608303\n",
      "Control (human prop):  0.11887295113019326\n",
      "Num treat/control:  337 7919\n"
     ]
    }
   ],
   "source": [
    "# average opinion\n",
    "print(\"Treat (bot prop): \", analysis[analysis['Treat']==-1]['outcome'].mean())\n",
    "print(\"Control (human prop): \", analysis[analysis['Treat']==1]['outcome'].mean())\n",
    "print(\"Num treat/control: \", len(analysis[analysis['Treat']==-1]), len(analysis[analysis['Treat']==1]))"
   ],
   "metadata": {
    "collapsed": false,
    "pycharm": {
     "name": "#%%\n"
    }
   }
  },
  {
   "cell_type": "code",
   "execution_count": 2,
   "outputs": [
    {
     "name": "stdout",
     "output_type": "stream",
     "text": [
      "t统计量: 3.441549403260464\n",
      "p值: 0.002910779896379889\n"
     ]
    }
   ],
   "source": [
    "from scipy import stats\n",
    "import numpy as np\n",
    "\n",
    "# 给定两组数据的均值和标准差\n",
    "mean1, mean2 = 0.6044, 0.6027\n",
    "std1, std2 = 0.0010, 0.0012\n",
    "\n",
    "# 给定样本大小\n",
    "n1, n2 = 10, 10\n",
    "\n",
    "# 计算自由度\n",
    "df = n1 + n2 - 2\n",
    "\n",
    "# 计算 t 统计量\n",
    "pooled_std = np.sqrt(((n1 - 1) * std1**2 + (n2 - 1) * std2**2) / df)\n",
    "t_stat = (mean1 - mean2) / (pooled_std * np.sqrt(1/n1 + 1/n2))\n",
    "\n",
    "# 计算 p 值\n",
    "p_val = 2 * (1 - stats.t.cdf(np.abs(t_stat), df))\n",
    "\n",
    "print(f\"t统计量: {t_stat}\")\n",
    "print(f\"p值: {p_val}\")"
   ],
   "metadata": {
    "collapsed": false,
    "pycharm": {
     "name": "#%%\n"
    }
   }
  },
  {
   "cell_type": "code",
   "execution_count": null,
   "outputs": [],
   "source": [],
   "metadata": {
    "collapsed": false,
    "pycharm": {
     "name": "#%%\n"
    }
   }
  }
 ],
 "metadata": {
  "kernelspec": {
   "display_name": "Python 3",
   "language": "python",
   "name": "python3"
  },
  "language_info": {
   "codemirror_mode": {
    "name": "ipython",
    "version": 3
   },
   "file_extension": ".py",
   "mimetype": "text/x-python",
   "name": "python",
   "nbconvert_exporter": "python",
   "pygments_lexer": "ipython3",
   "version": "3.9.7"
  }
 },
 "nbformat": 4,
 "nbformat_minor": 5
}