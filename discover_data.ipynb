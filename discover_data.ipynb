{
 "cells": [
  {
   "cell_type": "code",
   "execution_count": 14,
   "metadata": {
    "collapsed": true,
    "pycharm": {
     "name": "#%%\n"
    }
   },
   "outputs": [],
   "source": [
    "import pandas as pd\n",
    "import re\n",
    "from collections import Counter"
   ]
  },
  {
   "cell_type": "code",
   "execution_count": 3,
   "outputs": [
    {
     "data": {
      "text/plain": "           ID                                              tweet  \\\n0    15750898  [A family fears they may have been cheated out...   \n1  1659167666  [RT @VonteThePlug: Yeah but he ain’t got one h...   \n2    34743251  [RT @elonmusk: Aloha, welcome back from space ...   \n3   207809313  [एक राष्ट्र - एक राशन कार्ड की ओर अग्रसर भारत\\...   \n4    24212655  [RT @dominiquecrenn: So much negativity and go...   \n\n                                             profile  \n0  {'id': 15750898, 'id_str': '15750898', 'name':...  \n1  {'id': 1659167666, 'id_str': '1659167666', 'na...  \n2  {'id': 34743251, 'id_str': '34743251', 'name':...  \n3  {'id': 207809313, 'id_str': '207809313', 'name...  \n4  {'id': 24212655, 'id_str': '24212655', 'name':...  ",
      "text/html": "<div>\n<style scoped>\n    .dataframe tbody tr th:only-of-type {\n        vertical-align: middle;\n    }\n\n    .dataframe tbody tr th {\n        vertical-align: top;\n    }\n\n    .dataframe thead th {\n        text-align: right;\n    }\n</style>\n<table border=\"1\" class=\"dataframe\">\n  <thead>\n    <tr style=\"text-align: right;\">\n      <th></th>\n      <th>ID</th>\n      <th>tweet</th>\n      <th>profile</th>\n    </tr>\n  </thead>\n  <tbody>\n    <tr>\n      <th>0</th>\n      <td>15750898</td>\n      <td>[A family fears they may have been cheated out...</td>\n      <td>{'id': 15750898, 'id_str': '15750898', 'name':...</td>\n    </tr>\n    <tr>\n      <th>1</th>\n      <td>1659167666</td>\n      <td>[RT @VonteThePlug: Yeah but he ain’t got one h...</td>\n      <td>{'id': 1659167666, 'id_str': '1659167666', 'na...</td>\n    </tr>\n    <tr>\n      <th>2</th>\n      <td>34743251</td>\n      <td>[RT @elonmusk: Aloha, welcome back from space ...</td>\n      <td>{'id': 34743251, 'id_str': '34743251', 'name':...</td>\n    </tr>\n    <tr>\n      <th>3</th>\n      <td>207809313</td>\n      <td>[एक राष्ट्र - एक राशन कार्ड की ओर अग्रसर भारत\\...</td>\n      <td>{'id': 207809313, 'id_str': '207809313', 'name...</td>\n    </tr>\n    <tr>\n      <th>4</th>\n      <td>24212655</td>\n      <td>[RT @dominiquecrenn: So much negativity and go...</td>\n      <td>{'id': 24212655, 'id_str': '24212655', 'name':...</td>\n    </tr>\n  </tbody>\n</table>\n</div>"
     },
     "execution_count": 3,
     "metadata": {},
     "output_type": "execute_result"
    }
   ],
   "source": [
    "user = pd.read_json('Dataset/baidu/user.json')\n",
    "user.head(5)"
   ],
   "metadata": {
    "collapsed": false,
    "pycharm": {
     "name": "#%%\n"
    }
   }
  },
  {
   "cell_type": "code",
   "execution_count": 7,
   "outputs": [],
   "source": [
    "tweet = user['tweet']"
   ],
   "metadata": {
    "collapsed": false,
    "pycharm": {
     "name": "#%%\n"
    }
   }
  },
  {
   "cell_type": "code",
   "execution_count": 17,
   "outputs": [
    {
     "data": {
      "text/plain": "24696"
     },
     "execution_count": 17,
     "metadata": {},
     "output_type": "execute_result"
    }
   ],
   "source": [
    "len(tweet)"
   ],
   "metadata": {
    "collapsed": false,
    "pycharm": {
     "name": "#%%\n"
    }
   }
  },
  {
   "cell_type": "code",
   "execution_count": 15,
   "outputs": [
    {
     "name": "stdout",
     "output_type": "stream",
     "text": [
      "Counter({'Laura': 10, 'Florida': 8, 'BREAKING': 8, 'sunset': 5, 'Marco': 5, 'Skytower': 2, 'DNC2020': 2, 'RaysUp': 2, 'StanleyCup': 2, 'Sarasota': 1, 'Tampa': 1, 'GOESEast': 1, 'GoodDayTB': 1, 'SundayMorning': 1, 'GoodDayTampaBay': 1, 'TropicalStormLaura': 1, 'skytower': 1, 'TD14': 1, 'sarasota': 1, 'manatee': 1, '13': 1, 'ALERT': 1, 'RaysWin': 1, 'GoBolts': 1, 'BeTheDistantThunder': 1, 'BOLTSWIN': 1})\n"
     ]
    }
   ],
   "source": [
    "all_hashtags = []\n",
    "analy_user_tweet = tweet[0]\n",
    "hashtag_extract = [re.findall(r'#(\\w+)', line) for line in analy_user_tweet]\n",
    "hashtags = [word for sublist in hashtag_extract for word in sublist]\n",
    "all_hashtags.extend(hashtags)\n",
    "\n",
    "hashtag_freq = Counter(all_hashtags)\n",
    "print(hashtag_freq)"
   ],
   "metadata": {
    "collapsed": false,
    "pycharm": {
     "name": "#%%\n"
    }
   }
  }
 ],
 "metadata": {
  "kernelspec": {
   "display_name": "Python 3",
   "language": "python",
   "name": "python3"
  },
  "language_info": {
   "codemirror_mode": {
    "name": "ipython",
    "version": 2
   },
   "file_extension": ".py",
   "mimetype": "text/x-python",
   "name": "python",
   "nbconvert_exporter": "python",
   "pygments_lexer": "ipython2",
   "version": "2.7.6"
  }
 },
 "nbformat": 4,
 "nbformat_minor": 0
}