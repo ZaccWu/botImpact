{
 "cells": [
  {
   "cell_type": "code",
   "execution_count": 4,
   "id": "1be7cf7e",
   "metadata": {
    "pycharm": {
     "name": "#%%\n"
    }
   },
   "outputs": [],
   "source": [
    "import numpy as np\n",
    "import pandas as pd\n",
    "import torch"
   ]
  },
  {
   "cell_type": "code",
   "execution_count": 52,
   "outputs": [],
   "source": [
    "# topic 1 pos\n",
    "bot_label = np.load('Dataset/twi22/t1/t1_pos_bot_label.npy')\n",
    "treat_indicator = np.load('Dataset/twi22/t1/t1_pos_T_label.npy')\n",
    "outcome = np.load('Dataset/twi22/t1/t1_pos_y.npy')\n",
    "prop_label = np.load('Dataset/twi22/t1/t1_pos_prop_label.npy')\n",
    "analysis = pd.DataFrame({'Label': bot_label, 'prop': prop_label, 'Treat': treat_indicator, 'outcome': outcome})"
   ],
   "metadata": {
    "collapsed": false,
    "pycharm": {
     "name": "#%%\n"
    }
   }
  },
  {
   "cell_type": "code",
   "execution_count": 6,
   "outputs": [
    {
     "data": {
      "text/plain": "0    34169\n1     2460\nName: Label, dtype: int64"
     },
     "execution_count": 6,
     "metadata": {},
     "output_type": "execute_result"
    }
   ],
   "source": [
    "# human and bot propagator\n",
    "analysis[analysis['prop']==1]['Label'].value_counts()"
   ],
   "metadata": {
    "collapsed": false,
    "pycharm": {
     "name": "#%%\n"
    }
   }
  },
  {
   "cell_type": "code",
   "execution_count": 7,
   "outputs": [
    {
     "name": "stdout",
     "output_type": "stream",
     "text": [
      "Treat (human prop):  0.14865584072878865\n",
      "Control (bot prop):  0.20524876543209897\n",
      "Num treat/control:  59496 1782\n"
     ]
    }
   ],
   "source": [
    "# average opinion\n",
    "print(\"Treat (human prop): \", analysis[analysis['Treat']==-1]['outcome'].mean())\n",
    "print(\"Control (bot prop): \", analysis[analysis['Treat']==1]['outcome'].mean())\n",
    "print(\"Num treat/control: \", len(analysis[analysis['Treat']==-1]), len(analysis[analysis['Treat']==1]))"
   ],
   "metadata": {
    "collapsed": false,
    "pycharm": {
     "name": "#%%\n"
    }
   }
  },
  {
   "cell_type": "code",
   "execution_count": 58,
   "outputs": [
    {
     "data": {
      "text/plain": "<Figure size 288x288 with 1 Axes>",
      "image/png": "[encoded data removed]"
     },
     "metadata": {
      "needs_background": "light"
     },
     "output_type": "display_data"
    }
   ],
   "source": [
    "import matplotlib.pyplot as plt\n",
    "plt.figure(figsize=(4,4))\n",
    "plt.grid()\n",
    "plt.hist(analysis[analysis['Label']==0]['outcome'], bins=15, label='Human', alpha=0.6, color='gold', edgecolor='black')\n",
    "plt.hist(analysis[analysis['Label']==1]['outcome'], bins=15, label='Bot', alpha=0.75, color='red', edgecolor='black')\n",
    "plt.tick_params(labelsize=16)\n",
    "plt.legend(fontsize=18)\n",
    "plt.savefig('opinion_dist_t1.jpg', dpi=500)\n",
    "plt.show()"
   ],
   "metadata": {
    "collapsed": false,
    "pycharm": {
     "name": "#%%\n"
    }
   }
  },
  {
   "cell_type": "code",
   "execution_count": 23,
   "outputs": [],
   "source": [
    "# topic 1 neg\n",
    "bot_label = np.load('Dataset/twi22/t1/t1_neg_bot_label.npy')\n",
    "treat_indicator = np.load('Dataset/twi22/t1/t1_neg_T_label.npy')\n",
    "outcome = np.load('Dataset/twi22/t1/t1_neg_y.npy')\n",
    "prop_label = np.load('Dataset/twi22/t1/t1_neg_prop_label.npy')\n",
    "analysis = pd.DataFrame({'Label': bot_label, 'prop': prop_label, 'Treat': treat_indicator, 'outcome': outcome})"
   ],
   "metadata": {
    "collapsed": false,
    "pycharm": {
     "name": "#%%\n"
    }
   }
  },
  {
   "cell_type": "code",
   "execution_count": 24,
   "outputs": [
    {
     "data": {
      "text/plain": "0    17553\n1     1038\nName: Label, dtype: int64"
     },
     "execution_count": 24,
     "metadata": {},
     "output_type": "execute_result"
    }
   ],
   "source": [
    "# human and bot propagator\n",
    "analysis[analysis['prop']==1]['Label'].value_counts()"
   ],
   "metadata": {
    "collapsed": false,
    "pycharm": {
     "name": "#%%\n"
    }
   }
  },
  {
   "cell_type": "code",
   "execution_count": 25,
   "outputs": [
    {
     "name": "stdout",
     "output_type": "stream",
     "text": [
      "Treat (human prop):  0.06156433421129566\n",
      "Control (bot prop):  0.003165189189189204\n",
      "Num treat/control:  34170 925\n"
     ]
    }
   ],
   "source": [
    "# average opinion\n",
    "print(\"Treat (human prop): \", analysis[analysis['Treat']==-1]['outcome'].mean())\n",
    "print(\"Control (bot prop): \",analysis[analysis['Treat']==1]['outcome'].mean())\n",
    "print(\"Num treat/control: \", len(analysis[analysis['Treat']==-1]), len(analysis[analysis['Treat']==1]))"
   ],
   "metadata": {
    "collapsed": false,
    "pycharm": {
     "name": "#%%\n"
    }
   }
  },
  {
   "cell_type": "code",
   "execution_count": 59,
   "outputs": [],
   "source": [
    "# topic 2 pos\n",
    "bot_label = np.load('Dataset/twi22/t2/t2_pos_bot_label.npy')\n",
    "treat_indicator = np.load('Dataset/twi22/t2/t2_pos_T_label.npy')\n",
    "outcome = np.load('Dataset/twi22/t2/t2_pos_y.npy')\n",
    "prop_label = np.load('Dataset/twi22/t2/t2_pos_prop_label.npy')\n",
    "analysis = pd.DataFrame({'Label': bot_label, 'prop': prop_label, 'Treat': treat_indicator, 'outcome': outcome})"
   ],
   "metadata": {
    "collapsed": false,
    "pycharm": {
     "name": "#%%\n"
    }
   }
  },
  {
   "cell_type": "code",
   "execution_count": 28,
   "outputs": [
    {
     "data": {
      "text/plain": "0    19922\n1      777\nName: Label, dtype: int64"
     },
     "execution_count": 28,
     "metadata": {},
     "output_type": "execute_result"
    }
   ],
   "source": [
    "# human and bot propagator\n",
    "analysis[analysis['prop']==1]['Label'].value_counts()"
   ],
   "metadata": {
    "collapsed": false,
    "pycharm": {
     "name": "#%%\n"
    }
   }
  },
  {
   "cell_type": "code",
   "execution_count": 29,
   "outputs": [
    {
     "name": "stdout",
     "output_type": "stream",
     "text": [
      "Treat (human prop):  -0.1126987842541295\n",
      "Control (bot prop):  -0.08393858974358975\n",
      "Num treat/control:  20399 780\n"
     ]
    }
   ],
   "source": [
    "# average opinion\n",
    "print(\"Treat (human prop): \", analysis[analysis['Treat']==-1]['outcome'].mean())\n",
    "print(\"Control (bot prop): \",analysis[analysis['Treat']==1]['outcome'].mean())\n",
    "print(\"Num treat/control: \", len(analysis[analysis['Treat']==-1]), len(analysis[analysis['Treat']==1]))"
   ],
   "metadata": {
    "collapsed": false,
    "pycharm": {
     "name": "#%%\n"
    }
   }
  },
  {
   "cell_type": "code",
   "execution_count": 60,
   "outputs": [
    {
     "data": {
      "text/plain": "<Figure size 288x288 with 1 Axes>",
      "image/png": "[encoded data removed]"
     },
     "metadata": {
      "needs_background": "light"
     },
     "output_type": "display_data"
    }
   ],
   "source": [
    "import matplotlib.pyplot as plt\n",
    "plt.figure(figsize=(4,4))\n",
    "plt.grid()\n",
    "plt.hist(analysis[analysis['Label']==0]['outcome'], bins=15, label='Human', alpha=0.6, color='gold', edgecolor='black')\n",
    "plt.hist(analysis[analysis['Label']==1]['outcome'], bins=15, label='Bot', alpha=0.75, color='red', edgecolor='black')\n",
    "plt.tick_params(labelsize=16)\n",
    "plt.legend(fontsize=18)\n",
    "plt.savefig('opinion_dist_t2.jpg', dpi=500)\n",
    "plt.show()"
   ],
   "metadata": {
    "collapsed": false,
    "pycharm": {
     "name": "#%%\n"
    }
   }
  },
  {
   "cell_type": "code",
   "execution_count": 31,
   "outputs": [],
   "source": [
    "# topic 2 neg\n",
    "bot_label = np.load('Dataset/twi22/t2/t2_neg_bot_label.npy')\n",
    "treat_indicator = np.load('Dataset/twi22/t2/t2_neg_T_label.npy')\n",
    "outcome = np.load('Dataset/twi22/t2/t2_neg_y.npy')\n",
    "prop_label = np.load('Dataset/twi22/t2/t2_neg_prop_label.npy')\n",
    "analysis = pd.DataFrame({'Label': bot_label, 'prop': prop_label, 'Treat': treat_indicator, 'outcome': outcome})"
   ],
   "metadata": {
    "collapsed": false,
    "pycharm": {
     "name": "#%%\n"
    }
   }
  },
  {
   "cell_type": "code",
   "execution_count": 32,
   "outputs": [
    {
     "data": {
      "text/plain": "0    40701\n1     1267\nName: Label, dtype: int64"
     },
     "execution_count": 32,
     "metadata": {},
     "output_type": "execute_result"
    }
   ],
   "source": [
    "# human and bot propagator\n",
    "analysis[analysis['prop']==1]['Label'].value_counts()"
   ],
   "metadata": {
    "collapsed": false,
    "pycharm": {
     "name": "#%%\n"
    }
   }
  },
  {
   "cell_type": "code",
   "execution_count": 33,
   "outputs": [
    {
     "name": "stdout",
     "output_type": "stream",
     "text": [
      "Treat (human prop):  -0.1750625938364274\n",
      "Control (bot prop):  -0.26813522267206474\n",
      "Num treat/control:  30372 494\n"
     ]
    }
   ],
   "source": [
    "# average opinion\n",
    "print(\"Treat (human prop): \", analysis[analysis['Treat']==-1]['outcome'].mean())\n",
    "print(\"Control (bot prop): \",analysis[analysis['Treat']==1]['outcome'].mean())\n",
    "print(\"Num treat/control: \", len(analysis[analysis['Treat']==-1]), len(analysis[analysis['Treat']==1]))"
   ],
   "metadata": {
    "collapsed": false,
    "pycharm": {
     "name": "#%%\n"
    }
   }
  },
  {
   "cell_type": "code",
   "execution_count": 61,
   "outputs": [],
   "source": [
    "# topic 3 pos\n",
    "bot_label = np.load('Dataset/twi22/t3/t3_pos_bot_label.npy')\n",
    "treat_indicator = np.load('Dataset/twi22/t3/t3_pos_T_label.npy')\n",
    "outcome = np.load('Dataset/twi22/t3/t3_pos_y.npy')\n",
    "prop_label = np.load('Dataset/twi22/t3/t3_pos_prop_label.npy')\n",
    "analysis = pd.DataFrame({'Label': bot_label, 'prop': prop_label, 'Treat': treat_indicator, 'outcome': outcome})"
   ],
   "metadata": {
    "collapsed": false,
    "pycharm": {
     "name": "#%%\n"
    }
   }
  },
  {
   "cell_type": "code",
   "execution_count": 35,
   "outputs": [
    {
     "data": {
      "text/plain": "0    13377\n1      736\nName: Label, dtype: int64"
     },
     "execution_count": 35,
     "metadata": {},
     "output_type": "execute_result"
    }
   ],
   "source": [
    "# human and bot propagator\n",
    "analysis[analysis['prop']==1]['Label'].value_counts()"
   ],
   "metadata": {
    "collapsed": false,
    "pycharm": {
     "name": "#%%\n"
    }
   }
  },
  {
   "cell_type": "code",
   "execution_count": 36,
   "outputs": [
    {
     "name": "stdout",
     "output_type": "stream",
     "text": [
      "Treat (human prop):  0.21751235379235387\n",
      "Control (bot prop):  0.1537042813455658\n",
      "Num treat/control:  16586 327\n"
     ]
    }
   ],
   "source": [
    "# average opinion\n",
    "print(\"Treat (human prop): \", analysis[analysis['Treat']==-1]['outcome'].mean())\n",
    "print(\"Control (bot prop): \",analysis[analysis['Treat']==1]['outcome'].mean())\n",
    "print(\"Num treat/control: \", len(analysis[analysis['Treat']==-1]), len(analysis[analysis['Treat']==1]))"
   ],
   "metadata": {
    "collapsed": false,
    "pycharm": {
     "name": "#%%\n"
    }
   }
  },
  {
   "cell_type": "code",
   "execution_count": 62,
   "outputs": [
    {
     "data": {
      "text/plain": "<Figure size 288x288 with 1 Axes>",
      "image/png": "[encoded data removed]"
     },
     "metadata": {
      "needs_background": "light"
     },
     "output_type": "display_data"
    }
   ],
   "source": [
    "import matplotlib.pyplot as plt\n",
    "plt.figure(figsize=(4,4))\n",
    "plt.grid()\n",
    "plt.hist(analysis[analysis['Label']==0]['outcome'], bins=15, label='Human', alpha=0.6, color='gold', edgecolor='black')\n",
    "plt.hist(analysis[analysis['Label']==1]['outcome'], bins=15, label='Bot', alpha=0.75, color='red', edgecolor='black')\n",
    "plt.tick_params(labelsize=16)\n",
    "plt.legend(fontsize=18)\n",
    "plt.savefig('opinion_dist_t3.jpg', dpi=500)\n",
    "plt.show()"
   ],
   "metadata": {
    "collapsed": false,
    "pycharm": {
     "name": "#%%\n"
    }
   }
  },
  {
   "cell_type": "code",
   "execution_count": 38,
   "outputs": [],
   "source": [
    "# topic 3 neg\n",
    "bot_label = np.load('Dataset/twi22/t3/t3_neg_bot_label.npy')\n",
    "treat_indicator = np.load('Dataset/twi22/t3/t3_neg_T_label.npy')\n",
    "outcome = np.load('Dataset/twi22/t3/t3_neg_y.npy')\n",
    "prop_label = np.load('Dataset/twi22/t3/t3_neg_prop_label.npy')\n",
    "analysis = pd.DataFrame({'Label': bot_label, 'prop': prop_label, 'Treat': treat_indicator, 'outcome': outcome})"
   ],
   "metadata": {
    "collapsed": false,
    "pycharm": {
     "name": "#%%\n"
    }
   }
  },
  {
   "cell_type": "code",
   "execution_count": 39,
   "outputs": [
    {
     "data": {
      "text/plain": "0    4945\n1     227\nName: Label, dtype: int64"
     },
     "execution_count": 39,
     "metadata": {},
     "output_type": "execute_result"
    }
   ],
   "source": [
    "# human and bot propagator\n",
    "analysis[analysis['prop']==1]['Label'].value_counts()"
   ],
   "metadata": {
    "collapsed": false,
    "pycharm": {
     "name": "#%%\n"
    }
   }
  },
  {
   "cell_type": "code",
   "execution_count": 40,
   "outputs": [
    {
     "name": "stdout",
     "output_type": "stream",
     "text": [
      "Treat (human prop):  0.11887295113019326\n",
      "Control (bot prop):  0.19528724035608303\n",
      "Num treat/control:  7919 337\n"
     ]
    }
   ],
   "source": [
    "# average opinion\n",
    "print(\"Treat (human prop): \", analysis[analysis['Treat']==-1]['outcome'].mean())\n",
    "print(\"Control (bot prop): \",analysis[analysis['Treat']==1]['outcome'].mean())\n",
    "print(\"Num treat/control: \", len(analysis[analysis['Treat']==-1]), len(analysis[analysis['Treat']==1]))"
   ],
   "metadata": {
    "collapsed": false,
    "pycharm": {
     "name": "#%%\n"
    }
   }
  }
 ],
 "metadata": {
  "kernelspec": {
   "display_name": "Python 3",
   "language": "python",
   "name": "python3"
  },
  "language_info": {
   "codemirror_mode": {
    "name": "ipython",
    "version": 3
   },
   "file_extension": ".py",
   "mimetype": "text/x-python",
   "name": "python",
   "nbconvert_exporter": "python",
   "pygments_lexer": "ipython3",
   "version": "3.9.7"
  }
 },
 "nbformat": 4,
 "nbformat_minor": 5
}