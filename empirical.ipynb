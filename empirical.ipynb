{
 "cells": [
  {
   "cell_type": "code",
   "execution_count": 25,
   "id": "1be7cf7e",
   "metadata": {
    "pycharm": {
     "name": "#%%\n"
    }
   },
   "outputs": [],
   "source": [
    "import numpy as np\n",
    "import pandas as pd\n",
    "import torch"
   ]
  },
  {
   "cell_type": "code",
   "execution_count": 26,
   "outputs": [],
   "source": [
    "# topic 1 pos\n",
    "bot_label = np.load('Dataset/twi22/t1/t1_pos_bot_label.npy')\n",
    "treat_indicator = np.load('Dataset/twi22/t1/t1_pos_T_label.npy')\n",
    "outcome = np.load('Dataset/twi22/t1/t1_pos_y.npy')\n",
    "prop_label = np.load('Dataset/twi22/t1/t1_pos_prop_label.npy')\n",
    "analysis = pd.DataFrame({'Label': bot_label, 'prop': prop_label, 'Treat': treat_indicator, 'outcome': outcome})"
   ],
   "metadata": {
    "collapsed": false,
    "pycharm": {
     "name": "#%%\n"
    }
   }
  },
  {
   "cell_type": "code",
   "execution_count": 27,
   "outputs": [
    {
     "data": {
      "text/plain": "0    34169\n1     2460\nName: Label, dtype: int64"
     },
     "execution_count": 27,
     "metadata": {},
     "output_type": "execute_result"
    }
   ],
   "source": [
    "# human and bot propagator\n",
    "analysis[analysis['prop']==1]['Label'].value_counts()"
   ],
   "metadata": {
    "collapsed": false,
    "pycharm": {
     "name": "#%%\n"
    }
   }
  },
  {
   "cell_type": "code",
   "execution_count": 28,
   "outputs": [
    {
     "name": "stdout",
     "output_type": "stream",
     "text": [
      "0.14865584072878865\n",
      "0.20524876543209897\n"
     ]
    }
   ],
   "source": [
    "# average opinion\n",
    "print(analysis[analysis['Treat']==-1]['outcome'].mean())\n",
    "print(analysis[analysis['Treat']==1]['outcome'].mean())"
   ],
   "metadata": {
    "collapsed": false,
    "pycharm": {
     "name": "#%%\n"
    }
   }
  },
  {
   "cell_type": "code",
   "execution_count": 32,
   "outputs": [],
   "source": [
    "# topic 1 neg\n",
    "bot_label = np.load('Dataset/twi22/t1/t1_neg_bot_label.npy')\n",
    "treat_indicator = np.load('Dataset/twi22/t1/t1_neg_T_label.npy')\n",
    "outcome = np.load('Dataset/twi22/t1/t1_neg_y.npy')\n",
    "prop_label = np.load('Dataset/twi22/t1/t1_neg_prop_label.npy')\n",
    "analysis = pd.DataFrame({'Label': bot_label, 'prop': prop_label, 'Treat': treat_indicator, 'outcome': outcome})"
   ],
   "metadata": {
    "collapsed": false,
    "pycharm": {
     "name": "#%%\n"
    }
   }
  },
  {
   "cell_type": "code",
   "execution_count": 33,
   "outputs": [
    {
     "data": {
      "text/plain": "0    17553\n1     1038\nName: Label, dtype: int64"
     },
     "execution_count": 33,
     "metadata": {},
     "output_type": "execute_result"
    }
   ],
   "source": [
    "# human and bot propagator\n",
    "analysis[analysis['prop']==1]['Label'].value_counts()"
   ],
   "metadata": {
    "collapsed": false,
    "pycharm": {
     "name": "#%%\n"
    }
   }
  },
  {
   "cell_type": "code",
   "execution_count": 34,
   "outputs": [
    {
     "name": "stdout",
     "output_type": "stream",
     "text": [
      "0.06156433421129566\n",
      "0.003165189189189204\n"
     ]
    }
   ],
   "source": [
    "# average opinion\n",
    "print(analysis[analysis['Treat']==-1]['outcome'].mean())\n",
    "print(analysis[analysis['Treat']==1]['outcome'].mean())"
   ],
   "metadata": {
    "collapsed": false,
    "pycharm": {
     "name": "#%%\n"
    }
   }
  },
  {
   "cell_type": "code",
   "execution_count": 35,
   "outputs": [],
   "source": [
    "# topic 2 pos\n",
    "bot_label = np.load('Dataset/twi22/t2/t2_pos_bot_label.npy')\n",
    "treat_indicator = np.load('Dataset/twi22/t2/t2_pos_T_label.npy')\n",
    "outcome = np.load('Dataset/twi22/t2/t2_pos_y.npy')\n",
    "prop_label = np.load('Dataset/twi22/t2/t2_pos_prop_label.npy')\n",
    "analysis = pd.DataFrame({'Label': bot_label, 'prop': prop_label, 'Treat': treat_indicator, 'outcome': outcome})"
   ],
   "metadata": {
    "collapsed": false,
    "pycharm": {
     "name": "#%%\n"
    }
   }
  },
  {
   "cell_type": "code",
   "execution_count": 36,
   "outputs": [
    {
     "data": {
      "text/plain": "0    19922\n1      777\nName: Label, dtype: int64"
     },
     "execution_count": 36,
     "metadata": {},
     "output_type": "execute_result"
    }
   ],
   "source": [
    "# human and bot propagator\n",
    "analysis[analysis['prop']==1]['Label'].value_counts()"
   ],
   "metadata": {
    "collapsed": false,
    "pycharm": {
     "name": "#%%\n"
    }
   }
  },
  {
   "cell_type": "code",
   "execution_count": 37,
   "outputs": [
    {
     "name": "stdout",
     "output_type": "stream",
     "text": [
      "-0.1126987842541295\n",
      "-0.08393858974358975\n"
     ]
    }
   ],
   "source": [
    "# average opinion\n",
    "print(analysis[analysis['Treat']==-1]['outcome'].mean())\n",
    "print(analysis[analysis['Treat']==1]['outcome'].mean())"
   ],
   "metadata": {
    "collapsed": false,
    "pycharm": {
     "name": "#%%\n"
    }
   }
  },
  {
   "cell_type": "code",
   "execution_count": 38,
   "outputs": [],
   "source": [
    "# topic 2 neg\n",
    "bot_label = np.load('Dataset/twi22/t2/t2_neg_bot_label.npy')\n",
    "treat_indicator = np.load('Dataset/twi22/t2/t2_neg_T_label.npy')\n",
    "outcome = np.load('Dataset/twi22/t2/t2_neg_y.npy')\n",
    "prop_label = np.load('Dataset/twi22/t2/t2_neg_prop_label.npy')\n",
    "analysis = pd.DataFrame({'Label': bot_label, 'prop': prop_label, 'Treat': treat_indicator, 'outcome': outcome})"
   ],
   "metadata": {
    "collapsed": false,
    "pycharm": {
     "name": "#%%\n"
    }
   }
  },
  {
   "cell_type": "code",
   "execution_count": 39,
   "outputs": [
    {
     "data": {
      "text/plain": "0    40701\n1     1267\nName: Label, dtype: int64"
     },
     "execution_count": 39,
     "metadata": {},
     "output_type": "execute_result"
    }
   ],
   "source": [
    "# human and bot propagator\n",
    "analysis[analysis['prop']==1]['Label'].value_counts()"
   ],
   "metadata": {
    "collapsed": false,
    "pycharm": {
     "name": "#%%\n"
    }
   }
  },
  {
   "cell_type": "code",
   "execution_count": 40,
   "outputs": [
    {
     "name": "stdout",
     "output_type": "stream",
     "text": [
      "-0.1750625938364274\n",
      "-0.26813522267206474\n"
     ]
    }
   ],
   "source": [
    "# average opinion\n",
    "print(analysis[analysis['Treat']==-1]['outcome'].mean())\n",
    "print(analysis[analysis['Treat']==1]['outcome'].mean())"
   ],
   "metadata": {
    "collapsed": false,
    "pycharm": {
     "name": "#%%\n"
    }
   }
  },
  {
   "cell_type": "code",
   "execution_count": 41,
   "outputs": [],
   "source": [
    "# topic 3 pos\n",
    "bot_label = np.load('Dataset/twi22/t3/t3_pos_bot_label.npy')\n",
    "treat_indicator = np.load('Dataset/twi22/t3/t3_pos_T_label.npy')\n",
    "outcome = np.load('Dataset/twi22/t3/t3_pos_y.npy')\n",
    "prop_label = np.load('Dataset/twi22/t3/t3_pos_prop_label.npy')\n",
    "analysis = pd.DataFrame({'Label': bot_label, 'prop': prop_label, 'Treat': treat_indicator, 'outcome': outcome})"
   ],
   "metadata": {
    "collapsed": false,
    "pycharm": {
     "name": "#%%\n"
    }
   }
  },
  {
   "cell_type": "code",
   "execution_count": 42,
   "outputs": [
    {
     "data": {
      "text/plain": "0    13377\n1      736\nName: Label, dtype: int64"
     },
     "execution_count": 42,
     "metadata": {},
     "output_type": "execute_result"
    }
   ],
   "source": [
    "# human and bot propagator\n",
    "analysis[analysis['prop']==1]['Label'].value_counts()"
   ],
   "metadata": {
    "collapsed": false,
    "pycharm": {
     "name": "#%%\n"
    }
   }
  },
  {
   "cell_type": "code",
   "execution_count": 43,
   "outputs": [
    {
     "name": "stdout",
     "output_type": "stream",
     "text": [
      "0.21751235379235387\n",
      "0.1537042813455658\n"
     ]
    }
   ],
   "source": [
    "# average opinion\n",
    "print(analysis[analysis['Treat']==-1]['outcome'].mean())\n",
    "print(analysis[analysis['Treat']==1]['outcome'].mean())"
   ],
   "metadata": {
    "collapsed": false,
    "pycharm": {
     "name": "#%%\n"
    }
   }
  },
  {
   "cell_type": "code",
   "execution_count": 44,
   "outputs": [],
   "source": [
    "# topic 3 neg\n",
    "bot_label = np.load('Dataset/twi22/t3/t3_neg_bot_label.npy')\n",
    "treat_indicator = np.load('Dataset/twi22/t3/t3_neg_T_label.npy')\n",
    "outcome = np.load('Dataset/twi22/t3/t3_neg_y.npy')\n",
    "prop_label = np.load('Dataset/twi22/t3/t3_neg_prop_label.npy')\n",
    "analysis = pd.DataFrame({'Label': bot_label, 'prop': prop_label, 'Treat': treat_indicator, 'outcome': outcome})"
   ],
   "metadata": {
    "collapsed": false,
    "pycharm": {
     "name": "#%%\n"
    }
   }
  },
  {
   "cell_type": "code",
   "execution_count": 45,
   "outputs": [
    {
     "data": {
      "text/plain": "0    4945\n1     227\nName: Label, dtype: int64"
     },
     "execution_count": 45,
     "metadata": {},
     "output_type": "execute_result"
    }
   ],
   "source": [
    "# human and bot propagator\n",
    "analysis[analysis['prop']==1]['Label'].value_counts()"
   ],
   "metadata": {
    "collapsed": false,
    "pycharm": {
     "name": "#%%\n"
    }
   }
  },
  {
   "cell_type": "code",
   "execution_count": 46,
   "outputs": [
    {
     "name": "stdout",
     "output_type": "stream",
     "text": [
      "0.11887295113019326\n",
      "0.19528724035608303\n"
     ]
    }
   ],
   "source": [
    "# average opinion\n",
    "print(analysis[analysis['Treat']==-1]['outcome'].mean())\n",
    "print(analysis[analysis['Treat']==1]['outcome'].mean())"
   ],
   "metadata": {
    "collapsed": false,
    "pycharm": {
     "name": "#%%\n"
    }
   }
  }
 ],
 "metadata": {
  "kernelspec": {
   "display_name": "Python 3",
   "language": "python",
   "name": "python3"
  },
  "language_info": {
   "codemirror_mode": {
    "name": "ipython",
    "version": 3
   },
   "file_extension": ".py",
   "mimetype": "text/x-python",
   "name": "python",
   "nbconvert_exporter": "python",
   "pygments_lexer": "ipython3",
   "version": "3.9.7"
  }
 },
 "nbformat": 4,
 "nbformat_minor": 5
}